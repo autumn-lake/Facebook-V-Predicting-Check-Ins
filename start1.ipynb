{
 "cells": [
  {
   "cell_type": "code",
   "execution_count": 1,
   "metadata": {
    "collapsed": false
   },
   "outputs": [],
   "source": [
    "import numpy as np\n",
    "import pandas as pd\n",
    "import os\n",
    "import matplotlib.pyplot as plt\n",
    "from scipy.stats import gaussian_kde\n",
    "import time\n",
    "%matplotlib inline"
   ]
  },
  {
   "cell_type": "code",
   "execution_count": 2,
   "metadata": {
    "collapsed": false
   },
   "outputs": [],
   "source": [
    "ftypes_train = dict(row_id=np.int32, x=np.float32, y=np.float32, accuracy=np.int32, time=np.int32, place_id=np.int64)\n",
    "ftypes_test = dict(row_id=np.int32, x=np.float32, y=np.float32, accuracy=np.int32, time=np.int32)\n",
    "df_train = pd.read_csv(\"train.csv\", dtype=ftypes_train)\n",
    "df_test = pd.read_csv(\"test.csv\", dtype=ftypes_test)"
   ]
  },
  {
   "cell_type": "code",
   "execution_count": 3,
   "metadata": {
    "collapsed": false
   },
   "outputs": [],
   "source": [
    "# Add some time fields\n",
    "df_train[\"hour\"]       = (df_train[\"time\"]%(60*24))//60.\n",
    "df_train[\"dayofweek\"]  = np.ceil((df_train[\"time\"]%(60*24*7))//(60.*24))\n",
    "df_train[\"day\"]  = np.ceil((df_train[\"time\"]/(60*24)))\n",
    "df_train[\"week\"] = np.ceil((df_train[\"time\"]/(60*24*7)))\n",
    "df_test[\"hour\"]        = (df_test[\"time\"]%(60*24))//60.\n",
    "df_test[\"dayofweek\"]   = np.ceil((df_test[\"time\"]%(60*24*7))//(60.*24))\n",
    "df_test[\"day\"]   = np.ceil((df_test[\"time\"]/(60*24)))\n",
    "df_test[\"week\"]  = np.ceil((df_test[\"time\"]/(60*24*7)))"
   ]
  },
  {
   "cell_type": "code",
   "execution_count": 4,
   "metadata": {
    "collapsed": true
   },
   "outputs": [],
   "source": [
    "a = df_train.groupby(\"place_id\")[\"accuracy\"].nunique()\n",
    "b = pd.DataFrame(a)\n",
    "df = df_train[df_train['place_id']==7142415885]"
   ]
  },
  {
   "cell_type": "code",
   "execution_count": 6,
   "metadata": {
    "collapsed": false
   },
   "outputs": [
    {
     "data": {
      "image/png": "[encoded data removed]",
      "text/plain": [
       "<matplotlib.figure.Figure at 0x7fc66d7a6e50>"
      ]
     },
     "metadata": {},
     "output_type": "display_data"
    }
   ],
   "source": [
    "plt.figure(0, figsize=(15,15))\n",
    "plt.scatter(df['x'],df['y'])\n",
    "plt.plot(df['x'].mean(),df['y'].mean(),'ro')\n",
    "plt.plot(df['x'].median(),df['y'].median(),'r^')\n",
    "plt.xlim(0, 10)\n",
    "plt.ylim(0, 10)\n",
    "plt.gca().set_aspect('equal', adjustable='box')\n",
    "plt.draw()\n",
    "#plt.xticks(np.arange(min(df['x']), max(df['x']), 0.5))\n",
    "#plt.yticks(np.arange(min(df['y']), max(df['y']), 0.5))"
   ]
  },
  {
   "cell_type": "code",
   "execution_count": 7,
   "metadata": {
    "collapsed": true
   },
   "outputs": [],
   "source": [
    "from scipy.spatial import distance\n",
    "def dist(x):\n",
    "    a = abs(x[0]-x_med)\n",
    "    b = abs(x[1]-y_med)\n",
    "    return distance.euclidean(a,b)"
   ]
  },
  {
   "cell_type": "code",
   "execution_count": 10,
   "metadata": {
    "collapsed": false
   },
   "outputs": [],
   "source": [
    "c = np.array(abs(df['x']-df['x'].median()))\n",
    "d = np.array(abs(df['y']-df['y'].median()))"
   ]
  },
  {
   "cell_type": "code",
   "execution_count": 20,
   "metadata": {
    "collapsed": false
   },
   "outputs": [],
   "source": [
    "dst = distance.euclidean(c,d)"
   ]
  },
  {
   "cell_type": "code",
   "execution_count": 26,
   "metadata": {
    "collapsed": false
   },
   "outputs": [],
   "source": [
    "lst = []\n",
    "for i in range(len(c)):\n",
    "    lst.append(np.sqrt(np.square(c[i])+np.square(d[i])))"
   ]
  },
  {
   "cell_type": "code",
   "execution_count": 31,
   "metadata": {
    "collapsed": false
   },
   "outputs": [
    {
     "data": {
      "text/plain": [
       "5.0"
      ]
     },
     "execution_count": 31,
     "metadata": {},
     "output_type": "execute_result"
    }
   ],
   "source": [
    "np.sqrt(np.square(3)+np.square(4))"
   ]
  },
  {
   "cell_type": "code",
   "execution_count": 33,
   "metadata": {
    "collapsed": false
   },
   "outputs": [
    {
     "name": "stderr",
     "output_type": "stream",
     "text": [
      "/home/ds/anaconda2/lib/python2.7/site-packages/ipykernel/__main__.py:3: SettingWithCopyWarning: \n",
      "A value is trying to be set on a copy of a slice from a DataFrame.\n",
      "Try using .loc[row_indexer,col_indexer] = value instead\n",
      "\n",
      "See the caveats in the documentation: http://pandas.pydata.org/pandas-docs/stable/indexing.html#indexing-view-versus-copy\n",
      "  app.launch_new_instance()\n",
      "/home/ds/anaconda2/lib/python2.7/site-packages/ipykernel/__main__.py:4: SettingWithCopyWarning: \n",
      "A value is trying to be set on a copy of a slice from a DataFrame.\n",
      "Try using .loc[row_indexer,col_indexer] = value instead\n",
      "\n",
      "See the caveats in the documentation: http://pandas.pydata.org/pandas-docs/stable/indexing.html#indexing-view-versus-copy\n"
     ]
    }
   ],
   "source": [
    "x_med = df['x'].median()\n",
    "y_med = df['y'].median()\n",
    "df['diffx'] = np.square(abs(df['x']-x_med))\n",
    "df['diffy'] = np.square(abs(df['y']-y_med))"
   ]
  },
  {
   "cell_type": "code",
   "execution_count": 34,
   "metadata": {
    "collapsed": false
   },
   "outputs": [
    {
     "data": {
      "text/plain": [
       "(8.88659954071045, 4.227799892425537)"
      ]
     },
     "execution_count": 34,
     "metadata": {},
     "output_type": "execute_result"
    }
   ],
   "source": [
    "x_med,y_med"
   ]
  },
  {
   "cell_type": "code",
   "execution_count": 36,
   "metadata": {
    "collapsed": false
   },
   "outputs": [
    {
     "name": "stderr",
     "output_type": "stream",
     "text": [
      "/home/ds/anaconda2/lib/python2.7/site-packages/ipykernel/__main__.py:1: SettingWithCopyWarning: \n",
      "A value is trying to be set on a copy of a slice from a DataFrame.\n",
      "Try using .loc[row_indexer,col_indexer] = value instead\n",
      "\n",
      "See the caveats in the documentation: http://pandas.pydata.org/pandas-docs/stable/indexing.html#indexing-view-versus-copy\n",
      "  if __name__ == '__main__':\n"
     ]
    }
   ],
   "source": [
    "df['diffsum'] = np.sqrt(df['diffx'] + df['diffy'])"
   ]
  },
  {
   "cell_type": "code",
   "execution_count": 40,
   "metadata": {
    "collapsed": false
   },
   "outputs": [],
   "source": [
    "df = df.drop(['diffx','diffy'],axis=1)"
   ]
  },
  {
   "cell_type": "code",
   "execution_count": 42,
   "metadata": {
    "collapsed": false
   },
   "outputs": [],
   "source": [
    "df.rename(columns = {'diffsum':'dist'}, inplace = True)"
   ]
  },
  {
   "cell_type": "code",
   "execution_count": 43,
   "metadata": {
    "collapsed": false
   },
   "outputs": [
    {
     "data": {
      "text/html": [
       "<div>\n",
       "<table border=\"1\" class=\"dataframe\">\n",
       "  <thead>\n",
       "    <tr style=\"text-align: right;\">\n",
       "      <th></th>\n",
       "      <th>row_id</th>\n",
       "      <th>x</th>\n",
       "      <th>y</th>\n",
       "      <th>accuracy</th>\n",
       "      <th>time</th>\n",
       "      <th>place_id</th>\n",
       "      <th>hour</th>\n",
       "      <th>dayofweek</th>\n",
       "      <th>day</th>\n",
       "      <th>week</th>\n",
       "      <th>dist</th>\n",
       "    </tr>\n",
       "  </thead>\n",
       "  <tbody>\n",
       "    <tr>\n",
       "      <th>48311</th>\n",
       "      <td>48311</td>\n",
       "      <td>8.9098</td>\n",
       "      <td>4.2349</td>\n",
       "      <td>324</td>\n",
       "      <td>122161</td>\n",
       "      <td>7142415885</td>\n",
       "      <td>20</td>\n",
       "      <td>0.0</td>\n",
       "      <td>85.0</td>\n",
       "      <td>13.0</td>\n",
       "      <td>0.024262</td>\n",
       "    </tr>\n",
       "    <tr>\n",
       "      <th>92439</th>\n",
       "      <td>92439</td>\n",
       "      <td>8.9110</td>\n",
       "      <td>4.2285</td>\n",
       "      <td>410</td>\n",
       "      <td>495458</td>\n",
       "      <td>7142415885</td>\n",
       "      <td>1</td>\n",
       "      <td>1.0</td>\n",
       "      <td>345.0</td>\n",
       "      <td>50.0</td>\n",
       "      <td>0.024411</td>\n",
       "    </tr>\n",
       "    <tr>\n",
       "      <th>109171</th>\n",
       "      <td>109171</td>\n",
       "      <td>8.8416</td>\n",
       "      <td>4.2204</td>\n",
       "      <td>3</td>\n",
       "      <td>129632</td>\n",
       "      <td>7142415885</td>\n",
       "      <td>0</td>\n",
       "      <td>6.0</td>\n",
       "      <td>91.0</td>\n",
       "      <td>13.0</td>\n",
       "      <td>0.045604</td>\n",
       "    </tr>\n",
       "    <tr>\n",
       "      <th>109636</th>\n",
       "      <td>109636</td>\n",
       "      <td>8.8137</td>\n",
       "      <td>4.2281</td>\n",
       "      <td>13</td>\n",
       "      <td>73257</td>\n",
       "      <td>7142415885</td>\n",
       "      <td>20</td>\n",
       "      <td>1.0</td>\n",
       "      <td>51.0</td>\n",
       "      <td>8.0</td>\n",
       "      <td>0.072900</td>\n",
       "    </tr>\n",
       "    <tr>\n",
       "      <th>124221</th>\n",
       "      <td>124221</td>\n",
       "      <td>8.8010</td>\n",
       "      <td>4.2423</td>\n",
       "      <td>84</td>\n",
       "      <td>73356</td>\n",
       "      <td>7142415885</td>\n",
       "      <td>22</td>\n",
       "      <td>1.0</td>\n",
       "      <td>51.0</td>\n",
       "      <td>8.0</td>\n",
       "      <td>0.086819</td>\n",
       "    </tr>\n",
       "  </tbody>\n",
       "</table>\n",
       "</div>"
      ],
      "text/plain": [
       "        row_id       x       y  accuracy    time    place_id  hour  dayofweek  \\\n",
       "48311    48311  8.9098  4.2349       324  122161  7142415885    20        0.0   \n",
       "92439    92439  8.9110  4.2285       410  495458  7142415885     1        1.0   \n",
       "109171  109171  8.8416  4.2204         3  129632  7142415885     0        6.0   \n",
       "109636  109636  8.8137  4.2281        13   73257  7142415885    20        1.0   \n",
       "124221  124221  8.8010  4.2423        84   73356  7142415885    22        1.0   \n",
       "\n",
       "          day  week      dist  \n",
       "48311    85.0  13.0  0.024262  \n",
       "92439   345.0  50.0  0.024411  \n",
       "109171   91.0  13.0  0.045604  \n",
       "109636   51.0   8.0  0.072900  \n",
       "124221   51.0   8.0  0.086819  "
      ]
     },
     "execution_count": 43,
     "metadata": {},
     "output_type": "execute_result"
    }
   ],
   "source": [
    "df.head()"
   ]
  },
  {
   "cell_type": "code",
   "execution_count": 48,
   "metadata": {
    "collapsed": false
   },
   "outputs": [],
   "source": [
    "df1 = df.sort_values(by='dist',axis=0,ascending=False)"
   ]
  },
  {
   "cell_type": "code",
   "execution_count": 50,
   "metadata": {
    "collapsed": false
   },
   "outputs": [
    {
     "data": {
      "text/html": [
       "<div>\n",
       "<table border=\"1\" class=\"dataframe\">\n",
       "  <thead>\n",
       "    <tr style=\"text-align: right;\">\n",
       "      <th></th>\n",
       "      <th>row_id</th>\n",
       "      <th>x</th>\n",
       "      <th>y</th>\n",
       "      <th>accuracy</th>\n",
       "      <th>time</th>\n",
       "      <th>place_id</th>\n",
       "      <th>hour</th>\n",
       "      <th>dayofweek</th>\n",
       "      <th>day</th>\n",
       "      <th>week</th>\n",
       "      <th>dist</th>\n",
       "    </tr>\n",
       "  </thead>\n",
       "  <tbody>\n",
       "    <tr>\n",
       "      <th>1944313</th>\n",
       "      <td>1944313</td>\n",
       "      <td>0.8252</td>\n",
       "      <td>4.3077</td>\n",
       "      <td>55</td>\n",
       "      <td>676932</td>\n",
       "      <td>7142415885</td>\n",
       "      <td>2</td>\n",
       "      <td>1.0</td>\n",
       "      <td>471.0</td>\n",
       "      <td>68.0</td>\n",
       "      <td>8.061795</td>\n",
       "    </tr>\n",
       "    <tr>\n",
       "      <th>27899325</th>\n",
       "      <td>27899325</td>\n",
       "      <td>1.3759</td>\n",
       "      <td>3.9363</td>\n",
       "      <td>84</td>\n",
       "      <td>329801</td>\n",
       "      <td>7142415885</td>\n",
       "      <td>0</td>\n",
       "      <td>5.0</td>\n",
       "      <td>230.0</td>\n",
       "      <td>33.0</td>\n",
       "      <td>7.516354</td>\n",
       "    </tr>\n",
       "    <tr>\n",
       "      <th>22313583</th>\n",
       "      <td>22313583</td>\n",
       "      <td>1.4051</td>\n",
       "      <td>4.6790</td>\n",
       "      <td>34</td>\n",
       "      <td>686981</td>\n",
       "      <td>7142415885</td>\n",
       "      <td>1</td>\n",
       "      <td>1.0</td>\n",
       "      <td>478.0</td>\n",
       "      <td>69.0</td>\n",
       "      <td>7.495093</td>\n",
       "    </tr>\n",
       "    <tr>\n",
       "      <th>19888532</th>\n",
       "      <td>19888532</td>\n",
       "      <td>1.7130</td>\n",
       "      <td>4.3580</td>\n",
       "      <td>26</td>\n",
       "      <td>33411</td>\n",
       "      <td>7142415885</td>\n",
       "      <td>4</td>\n",
       "      <td>2.0</td>\n",
       "      <td>24.0</td>\n",
       "      <td>4.0</td>\n",
       "      <td>7.174781</td>\n",
       "    </tr>\n",
       "    <tr>\n",
       "      <th>23404925</th>\n",
       "      <td>23404925</td>\n",
       "      <td>1.8790</td>\n",
       "      <td>4.3504</td>\n",
       "      <td>68</td>\n",
       "      <td>404924</td>\n",
       "      <td>7142415885</td>\n",
       "      <td>4</td>\n",
       "      <td>1.0</td>\n",
       "      <td>282.0</td>\n",
       "      <td>41.0</td>\n",
       "      <td>7.008672</td>\n",
       "    </tr>\n",
       "  </tbody>\n",
       "</table>\n",
       "</div>"
      ],
      "text/plain": [
       "            row_id       x       y  accuracy    time    place_id  hour  \\\n",
       "1944313    1944313  0.8252  4.3077        55  676932  7142415885     2   \n",
       "27899325  27899325  1.3759  3.9363        84  329801  7142415885     0   \n",
       "22313583  22313583  1.4051  4.6790        34  686981  7142415885     1   \n",
       "19888532  19888532  1.7130  4.3580        26   33411  7142415885     4   \n",
       "23404925  23404925  1.8790  4.3504        68  404924  7142415885     4   \n",
       "\n",
       "          dayofweek    day  week      dist  \n",
       "1944313         1.0  471.0  68.0  8.061795  \n",
       "27899325        5.0  230.0  33.0  7.516354  \n",
       "22313583        1.0  478.0  69.0  7.495093  \n",
       "19888532        2.0   24.0   4.0  7.174781  \n",
       "23404925        1.0  282.0  41.0  7.008672  "
      ]
     },
     "execution_count": 50,
     "metadata": {},
     "output_type": "execute_result"
    }
   ],
   "source": [
    "df1.head()"
   ]
  },
  {
   "cell_type": "code",
   "execution_count": 54,
   "metadata": {
    "collapsed": false
   },
   "outputs": [
    {
     "data": {
      "image/png": "[encoded data removed]",
      "text/plain": [
       "<matplotlib.figure.Figure at 0x7fc66ccd6f50>"
      ]
     },
     "metadata": {},
     "output_type": "display_data"
    }
   ],
   "source": [
    "plt.figure(0, figsize=(15,15))\n",
    "plt.scatter(df['dist'],df['accuracy'])\n",
    "plt.draw()"
   ]
  },
  {
   "cell_type": "code",
   "execution_count": 58,
   "metadata": {
    "collapsed": false
   },
   "outputs": [
    {
     "data": {
      "text/html": [
       "<div>\n",
       "<table border=\"1\" class=\"dataframe\">\n",
       "  <thead>\n",
       "    <tr style=\"text-align: right;\">\n",
       "      <th></th>\n",
       "      <th>accuracy</th>\n",
       "    </tr>\n",
       "    <tr>\n",
       "      <th>place_id</th>\n",
       "      <th></th>\n",
       "    </tr>\n",
       "  </thead>\n",
       "  <tbody>\n",
       "    <tr>\n",
       "      <th>7142415885</th>\n",
       "      <td>492</td>\n",
       "    </tr>\n",
       "    <tr>\n",
       "      <th>8295507377</th>\n",
       "      <td>439</td>\n",
       "    </tr>\n",
       "    <tr>\n",
       "      <th>3395313490</th>\n",
       "      <td>437</td>\n",
       "    </tr>\n",
       "    <tr>\n",
       "      <th>4223683383</th>\n",
       "      <td>435</td>\n",
       "    </tr>\n",
       "    <tr>\n",
       "      <th>2452223908</th>\n",
       "      <td>427</td>\n",
       "    </tr>\n",
       "    <tr>\n",
       "      <th>1402090066</th>\n",
       "      <td>421</td>\n",
       "    </tr>\n",
       "    <tr>\n",
       "      <th>4653831541</th>\n",
       "      <td>411</td>\n",
       "    </tr>\n",
       "    <tr>\n",
       "      <th>6209036800</th>\n",
       "      <td>403</td>\n",
       "    </tr>\n",
       "    <tr>\n",
       "      <th>5378208693</th>\n",
       "      <td>401</td>\n",
       "    </tr>\n",
       "    <tr>\n",
       "      <th>9883722775</th>\n",
       "      <td>393</td>\n",
       "    </tr>\n",
       "    <tr>\n",
       "      <th>3110887974</th>\n",
       "      <td>384</td>\n",
       "    </tr>\n",
       "    <tr>\n",
       "      <th>6145439201</th>\n",
       "      <td>375</td>\n",
       "    </tr>\n",
       "    <tr>\n",
       "      <th>7767783897</th>\n",
       "      <td>372</td>\n",
       "    </tr>\n",
       "    <tr>\n",
       "      <th>6878057202</th>\n",
       "      <td>371</td>\n",
       "    </tr>\n",
       "    <tr>\n",
       "      <th>9768374581</th>\n",
       "      <td>371</td>\n",
       "    </tr>\n",
       "    <tr>\n",
       "      <th>9476996309</th>\n",
       "      <td>369</td>\n",
       "    </tr>\n",
       "    <tr>\n",
       "      <th>8605091602</th>\n",
       "      <td>369</td>\n",
       "    </tr>\n",
       "    <tr>\n",
       "      <th>1450073434</th>\n",
       "      <td>367</td>\n",
       "    </tr>\n",
       "    <tr>\n",
       "      <th>9475882736</th>\n",
       "      <td>367</td>\n",
       "    </tr>\n",
       "    <tr>\n",
       "      <th>8977862655</th>\n",
       "      <td>367</td>\n",
       "    </tr>\n",
       "    <tr>\n",
       "      <th>9773103738</th>\n",
       "      <td>367</td>\n",
       "    </tr>\n",
       "    <tr>\n",
       "      <th>2273014765</th>\n",
       "      <td>365</td>\n",
       "    </tr>\n",
       "    <tr>\n",
       "      <th>1131406470</th>\n",
       "      <td>364</td>\n",
       "    </tr>\n",
       "    <tr>\n",
       "      <th>2727166157</th>\n",
       "      <td>360</td>\n",
       "    </tr>\n",
       "    <tr>\n",
       "      <th>9811860476</th>\n",
       "      <td>359</td>\n",
       "    </tr>\n",
       "    <tr>\n",
       "      <th>2516622777</th>\n",
       "      <td>358</td>\n",
       "    </tr>\n",
       "    <tr>\n",
       "      <th>1052628400</th>\n",
       "      <td>358</td>\n",
       "    </tr>\n",
       "    <tr>\n",
       "      <th>5779585795</th>\n",
       "      <td>355</td>\n",
       "    </tr>\n",
       "    <tr>\n",
       "      <th>3716565703</th>\n",
       "      <td>354</td>\n",
       "    </tr>\n",
       "    <tr>\n",
       "      <th>6656040493</th>\n",
       "      <td>354</td>\n",
       "    </tr>\n",
       "    <tr>\n",
       "      <th>...</th>\n",
       "      <td>...</td>\n",
       "    </tr>\n",
       "    <tr>\n",
       "      <th>3691285644</th>\n",
       "      <td>1</td>\n",
       "    </tr>\n",
       "    <tr>\n",
       "      <th>1065205153</th>\n",
       "      <td>1</td>\n",
       "    </tr>\n",
       "    <tr>\n",
       "      <th>8868013954</th>\n",
       "      <td>1</td>\n",
       "    </tr>\n",
       "    <tr>\n",
       "      <th>2692593119</th>\n",
       "      <td>1</td>\n",
       "    </tr>\n",
       "    <tr>\n",
       "      <th>4983540793</th>\n",
       "      <td>1</td>\n",
       "    </tr>\n",
       "    <tr>\n",
       "      <th>3745972010</th>\n",
       "      <td>1</td>\n",
       "    </tr>\n",
       "    <tr>\n",
       "      <th>3266541302</th>\n",
       "      <td>1</td>\n",
       "    </tr>\n",
       "    <tr>\n",
       "      <th>1232113414</th>\n",
       "      <td>1</td>\n",
       "    </tr>\n",
       "    <tr>\n",
       "      <th>6513442790</th>\n",
       "      <td>1</td>\n",
       "    </tr>\n",
       "    <tr>\n",
       "      <th>7221587826</th>\n",
       "      <td>1</td>\n",
       "    </tr>\n",
       "    <tr>\n",
       "      <th>9813819833</th>\n",
       "      <td>1</td>\n",
       "    </tr>\n",
       "    <tr>\n",
       "      <th>2150524266</th>\n",
       "      <td>1</td>\n",
       "    </tr>\n",
       "    <tr>\n",
       "      <th>2166437800</th>\n",
       "      <td>1</td>\n",
       "    </tr>\n",
       "    <tr>\n",
       "      <th>1762209080</th>\n",
       "      <td>1</td>\n",
       "    </tr>\n",
       "    <tr>\n",
       "      <th>4393516126</th>\n",
       "      <td>1</td>\n",
       "    </tr>\n",
       "    <tr>\n",
       "      <th>9663369977</th>\n",
       "      <td>1</td>\n",
       "    </tr>\n",
       "    <tr>\n",
       "      <th>8112396361</th>\n",
       "      <td>1</td>\n",
       "    </tr>\n",
       "    <tr>\n",
       "      <th>9229704092</th>\n",
       "      <td>1</td>\n",
       "    </tr>\n",
       "    <tr>\n",
       "      <th>1660219404</th>\n",
       "      <td>1</td>\n",
       "    </tr>\n",
       "    <tr>\n",
       "      <th>8743920402</th>\n",
       "      <td>1</td>\n",
       "    </tr>\n",
       "    <tr>\n",
       "      <th>8943740294</th>\n",
       "      <td>1</td>\n",
       "    </tr>\n",
       "    <tr>\n",
       "      <th>9762494481</th>\n",
       "      <td>1</td>\n",
       "    </tr>\n",
       "    <tr>\n",
       "      <th>5745982062</th>\n",
       "      <td>1</td>\n",
       "    </tr>\n",
       "    <tr>\n",
       "      <th>3249422111</th>\n",
       "      <td>1</td>\n",
       "    </tr>\n",
       "    <tr>\n",
       "      <th>4631798802</th>\n",
       "      <td>1</td>\n",
       "    </tr>\n",
       "    <tr>\n",
       "      <th>5293934773</th>\n",
       "      <td>1</td>\n",
       "    </tr>\n",
       "    <tr>\n",
       "      <th>1810872211</th>\n",
       "      <td>1</td>\n",
       "    </tr>\n",
       "    <tr>\n",
       "      <th>4778137102</th>\n",
       "      <td>1</td>\n",
       "    </tr>\n",
       "    <tr>\n",
       "      <th>4633385890</th>\n",
       "      <td>1</td>\n",
       "    </tr>\n",
       "    <tr>\n",
       "      <th>1350309812</th>\n",
       "      <td>1</td>\n",
       "    </tr>\n",
       "  </tbody>\n",
       "</table>\n",
       "<p>108390 rows × 1 columns</p>\n",
       "</div>"
      ],
      "text/plain": [
       "            accuracy\n",
       "place_id            \n",
       "7142415885       492\n",
       "8295507377       439\n",
       "3395313490       437\n",
       "4223683383       435\n",
       "2452223908       427\n",
       "1402090066       421\n",
       "4653831541       411\n",
       "6209036800       403\n",
       "5378208693       401\n",
       "9883722775       393\n",
       "3110887974       384\n",
       "6145439201       375\n",
       "7767783897       372\n",
       "6878057202       371\n",
       "9768374581       371\n",
       "9476996309       369\n",
       "8605091602       369\n",
       "1450073434       367\n",
       "9475882736       367\n",
       "8977862655       367\n",
       "9773103738       367\n",
       "2273014765       365\n",
       "1131406470       364\n",
       "2727166157       360\n",
       "9811860476       359\n",
       "2516622777       358\n",
       "1052628400       358\n",
       "5779585795       355\n",
       "3716565703       354\n",
       "6656040493       354\n",
       "...              ...\n",
       "3691285644         1\n",
       "1065205153         1\n",
       "8868013954         1\n",
       "2692593119         1\n",
       "4983540793         1\n",
       "3745972010         1\n",
       "3266541302         1\n",
       "1232113414         1\n",
       "6513442790         1\n",
       "7221587826         1\n",
       "9813819833         1\n",
       "2150524266         1\n",
       "2166437800         1\n",
       "1762209080         1\n",
       "4393516126         1\n",
       "9663369977         1\n",
       "8112396361         1\n",
       "9229704092         1\n",
       "1660219404         1\n",
       "8743920402         1\n",
       "8943740294         1\n",
       "9762494481         1\n",
       "5745982062         1\n",
       "3249422111         1\n",
       "4631798802         1\n",
       "5293934773         1\n",
       "1810872211         1\n",
       "4778137102         1\n",
       "4633385890         1\n",
       "1350309812         1\n",
       "\n",
       "[108390 rows x 1 columns]"
      ]
     },
     "execution_count": 58,
     "metadata": {},
     "output_type": "execute_result"
    }
   ],
   "source": [
    "b.sort_values('accuracy',ascending=False)"
   ]
  },
  {
   "cell_type": "code",
   "execution_count": 65,
   "metadata": {
    "collapsed": false
   },
   "outputs": [
    {
     "name": "stderr",
     "output_type": "stream",
     "text": [
      "/home/ds/anaconda2/lib/python2.7/site-packages/ipykernel/__main__.py:13: SettingWithCopyWarning: \n",
      "A value is trying to be set on a copy of a slice from a DataFrame.\n",
      "Try using .loc[row_indexer,col_indexer] = value instead\n",
      "\n",
      "See the caveats in the documentation: http://pandas.pydata.org/pandas-docs/stable/indexing.html#indexing-view-versus-copy\n",
      "/home/ds/anaconda2/lib/python2.7/site-packages/ipykernel/__main__.py:14: SettingWithCopyWarning: \n",
      "A value is trying to be set on a copy of a slice from a DataFrame.\n",
      "Try using .loc[row_indexer,col_indexer] = value instead\n",
      "\n",
      "See the caveats in the documentation: http://pandas.pydata.org/pandas-docs/stable/indexing.html#indexing-view-versus-copy\n",
      "/home/ds/anaconda2/lib/python2.7/site-packages/ipykernel/__main__.py:15: SettingWithCopyWarning: \n",
      "A value is trying to be set on a copy of a slice from a DataFrame.\n",
      "Try using .loc[row_indexer,col_indexer] = value instead\n",
      "\n",
      "See the caveats in the documentation: http://pandas.pydata.org/pandas-docs/stable/indexing.html#indexing-view-versus-copy\n"
     ]
    },
    {
     "data": {
      "image/png": "[encoded data removed]",
      "text/plain": [
       "<matplotlib.figure.Figure at 0x7fc66c756850>"
      ]
     },
     "metadata": {},
     "output_type": "display_data"
    }
   ],
   "source": [
    "df = df_train[df_train['place_id']==8295507377]\n",
    "plt.figure(0, figsize=(15,15))\n",
    "plt.scatter(df['x'],df['y'])\n",
    "plt.plot(df['x'].mean(),df['y'].mean(),'ro')\n",
    "plt.plot(df['x'].median(),df['y'].median(),'r^')\n",
    "plt.xlim(0, 10)\n",
    "plt.ylim(0, 10)\n",
    "plt.gca().set_aspect('equal', adjustable='box')\n",
    "plt.draw()\n",
    "\n",
    "x_med = df['x'].median()\n",
    "y_med = df['y'].median()\n",
    "df['diffx'] = np.square(abs(df['x']-x_med))\n",
    "df['diffy'] = np.square(abs(df['y']-y_med))\n",
    "df['diffsum'] = np.sqrt(df['diffx'] + df['diffy'])\n",
    "df = df.drop(['diffx','diffy'],axis=1)\n",
    "df.rename(columns = {'diffsum':'dist'}, inplace = True)\n",
    "df1 = df.sort_values(by='dist',axis=0,ascending=False)"
   ]
  },
  {
   "cell_type": "code",
   "execution_count": 73,
   "metadata": {
    "collapsed": false
   },
   "outputs": [
    {
     "data": {
      "image/png": "[encoded data removed]",
      "text/plain": [
       "<matplotlib.figure.Figure at 0x7fc66c700150>"
      ]
     },
     "metadata": {},
     "output_type": "display_data"
    }
   ],
   "source": [
    "plt.figure(0, figsize=(5,5))\n",
    "plt.scatter(df['dist'],df['accuracy'])\n",
    "plt.draw()"
   ]
  },
  {
   "cell_type": "code",
   "execution_count": 100,
   "metadata": {
    "collapsed": false
   },
   "outputs": [
    {
     "data": {
      "text/plain": [
       "(284, 11)"
      ]
     },
     "execution_count": 100,
     "metadata": {},
     "output_type": "execute_result"
    }
   ],
   "source": [
    "df[df['dist']>0.05].shape"
   ]
  },
  {
   "cell_type": "code",
   "execution_count": 81,
   "metadata": {
    "collapsed": false
   },
   "outputs": [
    {
     "data": {
      "text/plain": [
       "(3.197000026702881, 6.330900192260742)"
      ]
     },
     "execution_count": 81,
     "metadata": {},
     "output_type": "execute_result"
    }
   ],
   "source": [
    "x_med,y_med"
   ]
  },
  {
   "cell_type": "code",
   "execution_count": 89,
   "metadata": {
    "collapsed": false
   },
   "outputs": [
    {
     "data": {
      "text/plain": [
       "(1085, 11)"
      ]
     },
     "execution_count": 89,
     "metadata": {},
     "output_type": "execute_result"
    }
   ],
   "source": [
    "df.shape"
   ]
  },
  {
   "cell_type": "code",
   "execution_count": 104,
   "metadata": {
    "collapsed": false
   },
   "outputs": [
    {
     "data": {
      "image/png": "[encoded data removed]",
      "text/plain": [
       "<matplotlib.figure.Figure at 0x7fc66c5a5b10>"
      ]
     },
     "metadata": {},
     "output_type": "display_data"
    }
   ],
   "source": [
    "df = df_train[df_train['place_id']==8295507377]\n",
    "plt.figure(0, figsize=(15,15))\n",
    "plt.scatter(df['x'],df['y'])\n",
    "plt.plot(df['x'].mean(),df['y'].mean(),'ro')\n",
    "plt.plot(df['x'].median(),df['y'].median(),'r^')\n",
    "plt.xlim(0, 10)\n",
    "plt.ylim(0, 10)\n",
    "plt.gca().set_aspect('equal', adjustable='box')\n",
    "plt.draw()"
   ]
  },
  {
   "cell_type": "code",
   "execution_count": 141,
   "metadata": {
    "collapsed": false
   },
   "outputs": [
    {
     "name": "stderr",
     "output_type": "stream",
     "text": [
      "/home/ds/anaconda2/lib/python2.7/site-packages/ipykernel/__main__.py:3: SettingWithCopyWarning: \n",
      "A value is trying to be set on a copy of a slice from a DataFrame.\n",
      "Try using .loc[row_indexer,col_indexer] = value instead\n",
      "\n",
      "See the caveats in the documentation: http://pandas.pydata.org/pandas-docs/stable/indexing.html#indexing-view-versus-copy\n",
      "  app.launch_new_instance()\n"
     ]
    }
   ],
   "source": [
    "x_med = df['x'].median()\n",
    "y_med = df['y'].median()\n",
    "df['diffx'] = abs(df['x']/df['y'])\n",
    "df1 = df.sort_values(by='diffx',axis=0,ascending=False)"
   ]
  },
  {
   "cell_type": "code",
   "execution_count": 142,
   "metadata": {
    "collapsed": false
   },
   "outputs": [
    {
     "data": {
      "image/png": "[encoded data removed]",
      "text/plain": [
       "<matplotlib.figure.Figure at 0x7fc66c64d9d0>"
      ]
     },
     "metadata": {},
     "output_type": "display_data"
    }
   ],
   "source": [
    "plt.figure(0, figsize=(5,5))\n",
    "plt.scatter(df['diffx'],df['accuracy'])\n",
    "plt.draw()"
   ]
  },
  {
   "cell_type": "code",
   "execution_count": null,
   "metadata": {
    "collapsed": true
   },
   "outputs": [],
   "source": []
  }
 ],
 "metadata": {
  "kernelspec": {
   "display_name": "Python 2",
   "language": "python",
   "name": "python2"
  },
  "language_info": {
   "codemirror_mode": {
    "name": "ipython",
    "version": 2
   },
   "file_extension": ".py",
   "mimetype": "text/x-python",
   "name": "python",
   "nbconvert_exporter": "python",
   "pygments_lexer": "ipython2",
   "version": "2.7.11"
  }
 },
 "nbformat": 4,
 "nbformat_minor": 0
}
