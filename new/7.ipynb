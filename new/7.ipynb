{
 "cells": [
  {
   "cell_type": "code",
   "execution_count": 1,
   "metadata": {
    "collapsed": true
   },
   "outputs": [],
   "source": [
    "# coding: utf-8\n",
    "__author__ = 'Sandro Vega Pons : https://www.kaggle.com/svpons'\n",
    "\n",
    "'''Partially based on grid_plus_classifier script:\n",
    "https://www.kaggle.com/svpons/facebook-v-predicting-check-ins/grid-plus-classifier\n",
    "'''\n",
    "\n",
    "import numpy as np\n",
    "import pandas as pd\n",
    "from sklearn.preprocessing import LabelEncoder\n",
    "from sklearn.neighbors import KNeighborsClassifier\n",
    "\n",
    "\n",
    "def prepare_data(df, n_cell_x, n_cell_y):\n",
    "    \"\"\"\n",
    "    Feature engineering and computation of the grid.\n",
    "    \"\"\"\n",
    "    #Creating the grid\n",
    "    size_x = 10. / n_cell_x\n",
    "    size_y = 10. / n_cell_y\n",
    "    eps = 0.00001  \n",
    "    xs = np.where(df.x.values < eps, 0, df.x.values - eps)\n",
    "    ys = np.where(df.y.values < eps, 0, df.y.values - eps)\n",
    "    pos_x = (xs / size_x).astype(np.int)\n",
    "    pos_y = (ys / size_y).astype(np.int)\n",
    "    df['grid_cell'] = (pos_y * n_cell_x + pos_x).astype(np.int16)\n",
    "    \n",
    "    #Feature engineering\n",
    "    fw = [500, 1000, 4, 3, 1./22., 2, 10] #feature weights (black magic here)\n",
    "    df.x = df.x.values * fw[0]\n",
    "    df.y = df.y.values * fw[1]\n",
    "    initial_date = np.datetime64('2014-01-01T01:01', dtype='datetime64[m]') \n",
    "    d_times = pd.DatetimeIndex(initial_date + np.timedelta64(int(mn), 'm') \n",
    "                               for mn in df.time.values)    \n",
    "    df['hour'] = (d_times.hour * fw[2]).astype(np.int8)\n",
    "    df['weekday'] = (d_times.weekday * fw[3]).astype(np.int8)\n",
    "    df['day'] = (d_times.dayofyear * fw[4]).astype(np.int8)\n",
    "    df['month'] = (d_times.month * fw[5]).astype(np.int8)\n",
    "    df['year'] = ((d_times.year - 2013) * fw[6]).astype(np.int8)\n",
    "\n",
    "    df = df.drop(['time'], axis=1) \n",
    "    return df\n",
    "    \n",
    "\n",
    "def process_one_cell(df_train, df_test, grid_id, th):\n",
    "    \"\"\"   \n",
    "    Classification inside one grid cell.\n",
    "    \"\"\"   \n",
    "    #Working on df_train\n",
    "    df_cell_train = df_train.loc[df_train.grid_cell == grid_id]\n",
    "    place_counts = df_cell_train.place_id.value_counts()\n",
    "    mask = (place_counts[df_cell_train.place_id.values] >= th).values\n",
    "    df_cell_train = df_cell_train.loc[mask]\n",
    "\n",
    "    #Working on df_test\n",
    "    df_cell_test = df_test.loc[df_test.grid_cell == grid_id]\n",
    "    row_ids = df_cell_test.index\n",
    "    \n",
    "    #Preparing data\n",
    "    le = LabelEncoder()\n",
    "    y = le.fit_transform(df_cell_train.place_id.values)\n",
    "    X = df_cell_train.drop(['place_id', 'grid_cell'], axis=1).values.astype(int)\n",
    "    X_test = df_cell_test.drop(['grid_cell'], axis = 1).values.astype(int)\n",
    "    \n",
    "    #Applying the classifier\n",
    "    clf = KNeighborsClassifier(n_neighbors=25, weights='distance', \n",
    "                               metric='manhattan')\n",
    "    clf.fit(X, y)\n",
    "    y_pred = clf.predict_proba(X_test)\n",
    "    #pred_probas = np.argsort(y_pred, axis=1)[:,::-1][:,:3]\n",
    "    pred_labels = le.inverse_transform(np.argsort(y_pred, axis=1)[:,::-1][:,:3])\n",
    "    \n",
    "    return pred_labels, row_ids, y_pred\n",
    "    \n",
    "    \n",
    "def process_grid(df_train, df_test, th, n_cells):\n",
    "    \"\"\"\n",
    "    Iterates over all grid cells, aggregates the results and makes the\n",
    "    submission.\n",
    "    \"\"\" \n",
    "    preds = np.zeros((df_test.shape[0], 3), dtype=int)\n",
    "    \n",
    "    for g_id in range(1):\n",
    "        if g_id % 100 == 0:\n",
    "            print('iter: %s' %(g_id))\n",
    "        \n",
    "        #Applying classifier to one grid cell\n",
    "        pred_labels, row_ids, y_pred = process_one_cell(df_train, df_test, g_id, th)\n",
    "\n",
    "        #Updating predictions\n",
    "        preds[row_ids] = pred_labels\n",
    "\n",
    "    print('Generating submission file ...')\n",
    "    #Auxiliary dataframe with the 3 best predictions for each sample\n",
    "    df_aux = pd.DataFrame(preds, dtype=str, columns=['l1', 'l2', 'l3'])  \n",
    "    \n",
    "    #Concatenating the 3 predictions for each sample\n",
    "    ds_sub = df_aux.l1.str.cat([df_aux.l2, df_aux.l3], sep=' ')\n",
    "    \n",
    "    #Writting to csv\n",
    "    ds_sub.name = 'place_id'\n",
    "    ds_sub.to_csv('sub_grid.csv', index=True, header=True, index_label='row_id') \n",
    "    \n",
    "    return y_pred, pred_labels,preds\n",
    "      "
   ]
  },
  {
   "cell_type": "code",
   "execution_count": 9,
   "metadata": {
    "collapsed": false
   },
   "outputs": [
    {
     "name": "stdout",
     "output_type": "stream",
     "text": [
      "Loading data ...\n"
     ]
    }
   ],
   "source": [
    "\"\"\"\n",
    "\"\"\"\n",
    "print('Loading data ...')\n",
    "dfgrid = pd.read_hdf('grid0predictedplacesreplaced__grid.h5','table')\n",
    "dfall = pd.read_hdf('grid0predictedplacesreplaced__all.h5','table')\n",
    "dforig = pd.read_hdf('grid0predictedplaces_.h5','table')\n",
    "df_test = pd.read_hdf('test.h5','table')"
   ]
  },
  {
   "cell_type": "code",
   "execution_count": 11,
   "metadata": {
    "collapsed": false
   },
   "outputs": [],
   "source": [
    "predsorig = np.zeros((df_test.shape[0], 3), dtype=int)\n",
    "predsgrid = np.zeros((df_test.shape[0], 3), dtype=int)\n",
    "predsall = np.zeros((df_test.shape[0], 3), dtype=int)"
   ]
  },
  {
   "cell_type": "code",
   "execution_count": 17,
   "metadata": {
    "collapsed": true
   },
   "outputs": [],
   "source": [
    "idd = dforig.index"
   ]
  },
  {
   "cell_type": "code",
   "execution_count": 18,
   "metadata": {
    "collapsed": false
   },
   "outputs": [
    {
     "data": {
      "text/plain": [
       "Int64Index([      5,     442,    2133,    2794,    3200,    4345,    4532,\n",
       "               4758,    5443,    5991,\n",
       "            ...\n",
       "            8601563, 8601827, 8602102, 8602382, 8603444, 8604653, 8605309,\n",
       "            8605991, 8606808, 8606934],\n",
       "           dtype='int64', length=11290)"
      ]
     },
     "execution_count": 18,
     "metadata": {},
     "output_type": "execute_result"
    }
   ],
   "source": [
    "idd"
   ]
  },
  {
   "cell_type": "code",
   "execution_count": 19,
   "metadata": {
    "collapsed": true
   },
   "outputs": [],
   "source": [
    "predsorig[idd] = dforig.values\n",
    "predsgrid[idd] = dfgrid.values\n",
    "predsall[idd] = dfall.values"
   ]
  },
  {
   "cell_type": "code",
   "execution_count": 22,
   "metadata": {
    "collapsed": true
   },
   "outputs": [],
   "source": [
    "df_aux1 = pd.DataFrame(predsorig, dtype=str, columns=['l1', 'l2', 'l3'])  \n",
    "df_aux2 = pd.DataFrame(predsgrid, dtype=str, columns=['l1', 'l2', 'l3'])\n",
    "df_aux3 = pd.DataFrame(predsall, dtype=str, columns=['l1', 'l2', 'l3'])\n",
    "#Concatenating the 3 predictions for each sample\n",
    "ds_sub1 = df_aux1.l1.str.cat([df_aux1.l2, df_aux1.l3], sep=' ')\n",
    "ds_sub2 = df_aux2.l1.str.cat([df_aux2.l2, df_aux2.l3], sep=' ')\n",
    "ds_sub3 = df_aux3.l1.str.cat([df_aux3.l2, df_aux3.l3], sep=' ')\n",
    "\n",
    "#Writting to csv\n",
    "ds_sub1.name = 'place_id'\n",
    "ds_sub1.to_csv('grid0predictedplaces_knn.csv', index=True, header=True, index_label='row_id')\n",
    "\n",
    "ds_sub2.name = 'place_id'\n",
    "ds_sub2.to_csv('grid0predictedplacesreplaced__grid_knn.csv', index=True, header=True, index_label='row_id')\n",
    "\n",
    "ds_sub3.name = 'place_id'\n",
    "ds_sub3.to_csv('grid0predictedplacesreplaced__all_knn.csv', index=True, header=True, index_label='row_id')"
   ]
  },
  {
   "cell_type": "code",
   "execution_count": null,
   "metadata": {
    "collapsed": true
   },
   "outputs": [],
   "source": []
  }
 ],
 "metadata": {
  "kernelspec": {
   "display_name": "Python 2",
   "language": "python",
   "name": "python2"
  },
  "language_info": {
   "codemirror_mode": {
    "name": "ipython",
    "version": 2
   },
   "file_extension": ".py",
   "mimetype": "text/x-python",
   "name": "python",
   "nbconvert_exporter": "python",
   "pygments_lexer": "ipython2",
   "version": "2.7.11"
  }
 },
 "nbformat": 4,
 "nbformat_minor": 0
}
