{
 "cells": [
  {
   "cell_type": "code",
   "execution_count": 1,
   "metadata": {
    "collapsed": true
   },
   "outputs": [],
   "source": [
    "import numpy as np\n",
    "import pandas as pd"
   ]
  },
  {
   "cell_type": "code",
   "execution_count": 2,
   "metadata": {
    "collapsed": false
   },
   "outputs": [
    {
     "name": "stdout",
     "output_type": "stream",
     "text": [
      "Loading data ...\n"
     ]
    }
   ],
   "source": [
    "print('Loading data ...')\n",
    "df1 = pd.read_hdf('1234todoAnalysis.h5','table')\n",
    "df2 = pd.read_hdf('1234gridFreq.h5','table')"
   ]
  },
  {
   "cell_type": "code",
   "execution_count": 5,
   "metadata": {
    "collapsed": false
   },
   "outputs": [
    {
     "data": {
      "text/html": [
       "<div>\n",
       "<table border=\"1\" class=\"dataframe\">\n",
       "  <thead>\n",
       "    <tr style=\"text-align: right;\">\n",
       "      <th></th>\n",
       "      <th>l1</th>\n",
       "      <th>l2</th>\n",
       "      <th>l3</th>\n",
       "      <th>diff12</th>\n",
       "      <th>diff23</th>\n",
       "      <th>AllRatio12</th>\n",
       "      <th>AllRatio23</th>\n",
       "      <th>gridRatio12</th>\n",
       "      <th>gridRatio23</th>\n",
       "    </tr>\n",
       "  </thead>\n",
       "  <tbody>\n",
       "    <tr>\n",
       "      <th>0</th>\n",
       "      <td>0.308713</td>\n",
       "      <td>0.154834</td>\n",
       "      <td>0.137801</td>\n",
       "      <td>0.153880</td>\n",
       "      <td>0.017033</td>\n",
       "      <td>0.378261</td>\n",
       "      <td>2.527473</td>\n",
       "      <td>0.364035</td>\n",
       "      <td>2.651163</td>\n",
       "    </tr>\n",
       "    <tr>\n",
       "      <th>1</th>\n",
       "      <td>0.242668</td>\n",
       "      <td>0.151991</td>\n",
       "      <td>0.116748</td>\n",
       "      <td>0.090677</td>\n",
       "      <td>0.035243</td>\n",
       "      <td>6.360248</td>\n",
       "      <td>0.964072</td>\n",
       "      <td>13.683333</td>\n",
       "      <td>2.857143</td>\n",
       "    </tr>\n",
       "    <tr>\n",
       "      <th>2</th>\n",
       "      <td>0.394223</td>\n",
       "      <td>0.278302</td>\n",
       "      <td>0.110240</td>\n",
       "      <td>0.115921</td>\n",
       "      <td>0.168062</td>\n",
       "      <td>0.081166</td>\n",
       "      <td>1.385371</td>\n",
       "      <td>0.085125</td>\n",
       "      <td>4.229091</td>\n",
       "    </tr>\n",
       "    <tr>\n",
       "      <th>3</th>\n",
       "      <td>0.665965</td>\n",
       "      <td>0.166739</td>\n",
       "      <td>0.048985</td>\n",
       "      <td>0.499226</td>\n",
       "      <td>0.117754</td>\n",
       "      <td>1.337700</td>\n",
       "      <td>5.204545</td>\n",
       "      <td>0.842640</td>\n",
       "      <td>56.285714</td>\n",
       "    </tr>\n",
       "    <tr>\n",
       "      <th>4</th>\n",
       "      <td>0.876901</td>\n",
       "      <td>0.087552</td>\n",
       "      <td>0.035546</td>\n",
       "      <td>0.789349</td>\n",
       "      <td>0.052006</td>\n",
       "      <td>3.884146</td>\n",
       "      <td>0.286713</td>\n",
       "      <td>4.193548</td>\n",
       "      <td>0.968750</td>\n",
       "    </tr>\n",
       "  </tbody>\n",
       "</table>\n",
       "</div>"
      ],
      "text/plain": [
       "         l1        l2        l3    diff12    diff23  AllRatio12  AllRatio23  \\\n",
       "0  0.308713  0.154834  0.137801  0.153880  0.017033    0.378261    2.527473   \n",
       "1  0.242668  0.151991  0.116748  0.090677  0.035243    6.360248    0.964072   \n",
       "2  0.394223  0.278302  0.110240  0.115921  0.168062    0.081166    1.385371   \n",
       "3  0.665965  0.166739  0.048985  0.499226  0.117754    1.337700    5.204545   \n",
       "4  0.876901  0.087552  0.035546  0.789349  0.052006    3.884146    0.286713   \n",
       "\n",
       "   gridRatio12  gridRatio23  \n",
       "0     0.364035     2.651163  \n",
       "1    13.683333     2.857143  \n",
       "2     0.085125     4.229091  \n",
       "3     0.842640    56.285714  \n",
       "4     4.193548     0.968750  "
      ]
     },
     "execution_count": 5,
     "metadata": {},
     "output_type": "execute_result"
    }
   ],
   "source": [
    "df1.head()"
   ]
  },
  {
   "cell_type": "code",
   "execution_count": null,
   "metadata": {
    "collapsed": true
   },
   "outputs": [],
   "source": [
    "df2 = df2.astype(float)"
   ]
  },
  {
   "cell_type": "code",
   "execution_count": null,
   "metadata": {
    "collapsed": true
   },
   "outputs": [],
   "source": [
    "df2['gridRatio12'] = df2['gridFreq1']/df2['gridFreq2']\n",
    "df2['gridRatio23'] = df2['gridFreq2']/df2['gridFreq3']\n",
    "df2 = df2.drop(['gridFreq1','gridFreq2','gridFreq3'], axis=1)"
   ]
  },
  {
   "cell_type": "code",
   "execution_count": null,
   "metadata": {
    "collapsed": false
   },
   "outputs": [],
   "source": [
    "df2.head()"
   ]
  },
  {
   "cell_type": "code",
   "execution_count": null,
   "metadata": {
    "collapsed": true
   },
   "outputs": [],
   "source": [
    "df3 = pd.concat([df1, df2], axis=1)"
   ]
  },
  {
   "cell_type": "code",
   "execution_count": null,
   "metadata": {
    "collapsed": false
   },
   "outputs": [],
   "source": [
    "df3.head()"
   ]
  },
  {
   "cell_type": "code",
   "execution_count": null,
   "metadata": {
    "collapsed": true
   },
   "outputs": [],
   "source": [
    "df3.to_hdf('1234todoAnalysis.h5','table')"
   ]
  },
  {
   "cell_type": "code",
   "execution_count": null,
   "metadata": {
    "collapsed": true
   },
   "outputs": [],
   "source": [
    "df3.head()"
   ]
  },
  {
   "cell_type": "code",
   "execution_count": null,
   "metadata": {
    "collapsed": true
   },
   "outputs": [],
   "source": []
  }
 ],
 "metadata": {
  "kernelspec": {
   "display_name": "Python 2",
   "language": "python",
   "name": "python2"
  },
  "language_info": {
   "codemirror_mode": {
    "name": "ipython",
    "version": 2
   },
   "file_extension": ".py",
   "mimetype": "text/x-python",
   "name": "python",
   "nbconvert_exporter": "python",
   "pygments_lexer": "ipython2",
   "version": "2.7.11"
  }
 },
 "nbformat": 4,
 "nbformat_minor": 0
}
