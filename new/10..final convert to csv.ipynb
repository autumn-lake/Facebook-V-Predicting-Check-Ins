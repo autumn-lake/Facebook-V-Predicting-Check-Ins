{
 "cells": [
  {
   "cell_type": "code",
   "execution_count": 1,
   "metadata": {
    "collapsed": true
   },
   "outputs": [],
   "source": [
    "import numpy as np\n",
    "import pandas as pd"
   ]
  },
  {
   "cell_type": "code",
   "execution_count": 2,
   "metadata": {
    "collapsed": true
   },
   "outputs": [],
   "source": [
    "df = pd.read_hdf('predictedplacesreplaced__union_intersection12_23.h5','table')"
   ]
  },
  {
   "cell_type": "code",
   "execution_count": 3,
   "metadata": {
    "collapsed": false
   },
   "outputs": [
    {
     "data": {
      "text/html": [
       "<div>\n",
       "<table border=\"1\" class=\"dataframe\">\n",
       "  <thead>\n",
       "    <tr style=\"text-align: right;\">\n",
       "      <th></th>\n",
       "      <th>l1</th>\n",
       "      <th>l2</th>\n",
       "      <th>l3</th>\n",
       "    </tr>\n",
       "  </thead>\n",
       "  <tbody>\n",
       "    <tr>\n",
       "      <th>0</th>\n",
       "      <td>4393146716</td>\n",
       "      <td>6131996960</td>\n",
       "      <td>3831655216</td>\n",
       "    </tr>\n",
       "    <tr>\n",
       "      <th>1</th>\n",
       "      <td>2465239230</td>\n",
       "      <td>5801740503</td>\n",
       "      <td>4634106612</td>\n",
       "    </tr>\n",
       "    <tr>\n",
       "      <th>2</th>\n",
       "      <td>2516481553</td>\n",
       "      <td>7862615088</td>\n",
       "      <td>7295979691</td>\n",
       "    </tr>\n",
       "    <tr>\n",
       "      <th>3</th>\n",
       "      <td>7995458948</td>\n",
       "      <td>3243409743</td>\n",
       "      <td>5345410711</td>\n",
       "    </tr>\n",
       "    <tr>\n",
       "      <th>4</th>\n",
       "      <td>4764406629</td>\n",
       "      <td>8277155346</td>\n",
       "      <td>8711861736</td>\n",
       "    </tr>\n",
       "  </tbody>\n",
       "</table>\n",
       "</div>"
      ],
      "text/plain": [
       "           l1          l2          l3\n",
       "0  4393146716  6131996960  3831655216\n",
       "1  2465239230  5801740503  4634106612\n",
       "2  2516481553  7862615088  7295979691\n",
       "3  7995458948  3243409743  5345410711\n",
       "4  4764406629  8277155346  8711861736"
      ]
     },
     "execution_count": 3,
     "metadata": {},
     "output_type": "execute_result"
    }
   ],
   "source": [
    "df.head()"
   ]
  },
  {
   "cell_type": "code",
   "execution_count": 4,
   "metadata": {
    "collapsed": false
   },
   "outputs": [
    {
     "name": "stdout",
     "output_type": "stream",
     "text": [
      "Generating submission file ...\n"
     ]
    }
   ],
   "source": [
    "print('Generating submission file ...')\n",
    "#Auxiliary dataframe with the 3 best predictions for each sample\n",
    "df = df.astype(str)  \n",
    "\n",
    "#Concatenating the 3 predictions for each sample\n",
    "ds_sub = df.l1.str.cat([df.l2, df.l3], sep=' ')\n",
    "\n",
    "#Writting to csv\n",
    "ds_sub.name = 'place_id'\n",
    "ds_sub.to_csv('predictedplacesreplaced__union_intersection12_23.csv', index=True, header=True, index_label='row_id')"
   ]
  },
  {
   "cell_type": "code",
   "execution_count": null,
   "metadata": {
    "collapsed": true
   },
   "outputs": [],
   "source": []
  }
 ],
 "metadata": {
  "kernelspec": {
   "display_name": "Python 2",
   "language": "python",
   "name": "python2"
  },
  "language_info": {
   "codemirror_mode": {
    "name": "ipython",
    "version": 2
   },
   "file_extension": ".py",
   "mimetype": "text/x-python",
   "name": "python",
   "nbconvert_exporter": "python",
   "pygments_lexer": "ipython2",
   "version": "2.7.11"
  }
 },
 "nbformat": 4,
 "nbformat_minor": 0
}
