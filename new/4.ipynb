{
 "cells": [
  {
   "cell_type": "code",
   "execution_count": 1,
   "metadata": {
    "collapsed": true
   },
   "outputs": [],
   "source": [
    "# coding: utf-8\n",
    "__author__ = 'Sandro Vega Pons : https://www.kaggle.com/svpons'\n",
    "\n",
    "'''Partially based on grid_plus_classifier script:\n",
    "https://www.kaggle.com/svpons/facebook-v-predicting-check-ins/grid-plus-classifier\n",
    "'''\n",
    "\n",
    "import numpy as np\n",
    "import pandas as pd\n",
    "from sklearn.preprocessing import LabelEncoder\n",
    "from sklearn.neighbors import KNeighborsClassifier\n",
    "\n",
    "\n",
    "def prepare_data(df, n_cell_x, n_cell_y):\n",
    "    \"\"\"\n",
    "    Feature engineering and computation of the grid.\n",
    "    \"\"\"\n",
    "    #Creating the grid\n",
    "    size_x = 10. / n_cell_x\n",
    "    size_y = 10. / n_cell_y\n",
    "    eps = 0.00001  \n",
    "    xs = np.where(df.x.values < eps, 0, df.x.values - eps)\n",
    "    ys = np.where(df.y.values < eps, 0, df.y.values - eps)\n",
    "    pos_x = (xs / size_x).astype(np.int)\n",
    "    pos_y = (ys / size_y).astype(np.int)\n",
    "    df['grid_cell'] = (pos_y * n_cell_x + pos_x).astype(np.int16)\n",
    "    \n",
    "    #Feature engineering\n",
    "    fw = [500, 1000, 4, 3, 1./22., 2, 10] #feature weights (black magic here)\n",
    "    df.x = df.x.values * fw[0]\n",
    "    df.y = df.y.values * fw[1]\n",
    "    initial_date = np.datetime64('2014-01-01T01:01', dtype='datetime64[m]') \n",
    "    d_times = pd.DatetimeIndex(initial_date + np.timedelta64(int(mn), 'm') \n",
    "                               for mn in df.time.values)    \n",
    "    df['hour'] = (d_times.hour * fw[2]).astype(np.int8)\n",
    "    df['weekday'] = (d_times.weekday * fw[3]).astype(np.int8)\n",
    "    df['day'] = (d_times.dayofyear * fw[4]).astype(np.int8)\n",
    "    df['month'] = (d_times.month * fw[5]).astype(np.int8)\n",
    "    df['year'] = ((d_times.year - 2013) * fw[6]).astype(np.int8)\n",
    "\n",
    "    df = df.drop(['time'], axis=1) \n",
    "    return df\n",
    "    \n",
    "\n",
    "def process_one_cell(df_train, df_test, grid_id, th):\n",
    "    \"\"\"   \n",
    "    Classification inside one grid cell.\n",
    "    \"\"\"   \n",
    "    #Working on df_train\n",
    "    df_cell_train = df_train.loc[df_train.grid_cell == grid_id]\n",
    "    place_counts = df_cell_train.place_id.value_counts()\n",
    "    mask = (place_counts[df_cell_train.place_id.values] >= th).values\n",
    "    df_cell_train = df_cell_train.loc[mask]\n",
    "\n",
    "    #Working on df_test\n",
    "    df_cell_test = df_test.loc[df_test.grid_cell == grid_id]\n",
    "    row_ids = df_cell_test.index\n",
    "    \n",
    "    #Preparing data\n",
    "    le = LabelEncoder()\n",
    "    y = le.fit_transform(df_cell_train.place_id.values)\n",
    "    X = df_cell_train.drop(['place_id', 'grid_cell'], axis=1).values.astype(int)\n",
    "    X_test = df_cell_test.drop(['grid_cell'], axis = 1).values.astype(int)\n",
    "    \n",
    "    #Applying the classifier\n",
    "    clf = KNeighborsClassifier(n_neighbors=25, weights='distance', \n",
    "                               metric='manhattan')\n",
    "    clf.fit(X, y)\n",
    "    y_pred = clf.predict_proba(X_test)\n",
    "    #pred_probas = np.argsort(y_pred, axis=1)[:,::-1][:,:3]\n",
    "    pred_labels = le.inverse_transform(np.argsort(y_pred, axis=1)[:,::-1][:,:3])\n",
    "    \n",
    "    return pred_labels, row_ids, y_pred\n",
    "    \n",
    "    \n",
    "def process_grid(df_train, df_test, th, n_cells):\n",
    "    \"\"\"\n",
    "    Iterates over all grid cells, aggregates the results and makes the\n",
    "    submission.\n",
    "    \"\"\" \n",
    "    preds = np.zeros((df_test.shape[0], 3), dtype=int)\n",
    "    \n",
    "    for g_id in range(1):\n",
    "        if g_id % 100 == 0:\n",
    "            print('iter: %s' %(g_id))\n",
    "        \n",
    "        #Applying classifier to one grid cell\n",
    "        pred_labels, row_ids, y_pred = process_one_cell(df_train, df_test, g_id, th)\n",
    "\n",
    "        #Updating predictions\n",
    "        preds[row_ids] = pred_labels\n",
    "\n",
    "    print('Generating submission file ...')\n",
    "    #Auxiliary dataframe with the 3 best predictions for each sample\n",
    "    df_aux = pd.DataFrame(preds, dtype=str, columns=['l1', 'l2', 'l3'])  \n",
    "    \n",
    "    #Concatenating the 3 predictions for each sample\n",
    "    ds_sub = df_aux.l1.str.cat([df_aux.l2, df_aux.l3], sep=' ')\n",
    "    \n",
    "    #Writting to csv\n",
    "    ds_sub.name = 'place_id'\n",
    "    ds_sub.to_csv('sub_grid.csv', index=True, header=True, index_label='row_id') \n",
    "    \n",
    "    return y_pred, pred_labels,preds\n",
    "      "
   ]
  },
  {
   "cell_type": "code",
   "execution_count": 2,
   "metadata": {
    "collapsed": false
   },
   "outputs": [
    {
     "name": "stdout",
     "output_type": "stream",
     "text": [
      "Loading data ...\n"
     ]
    }
   ],
   "source": [
    "\"\"\"\n",
    "\"\"\"\n",
    "print('Loading data ...')\n",
    "df1 = pd.read_hdf('grid0predictedplaces_.h5','table')\n",
    "df2 = pd.read_hdf('grid0predictedprobability_.h5','table')"
   ]
  },
  {
   "cell_type": "code",
   "execution_count": 3,
   "metadata": {
    "collapsed": false
   },
   "outputs": [
    {
     "data": {
      "text/html": [
       "<div>\n",
       "<table border=\"1\" class=\"dataframe\">\n",
       "  <thead>\n",
       "    <tr style=\"text-align: right;\">\n",
       "      <th></th>\n",
       "      <th>l1</th>\n",
       "      <th>l2</th>\n",
       "      <th>l3</th>\n",
       "    </tr>\n",
       "  </thead>\n",
       "  <tbody>\n",
       "    <tr>\n",
       "      <th>5</th>\n",
       "      <td>8370753254</td>\n",
       "      <td>9727638738</td>\n",
       "      <td>4120068991</td>\n",
       "    </tr>\n",
       "    <tr>\n",
       "      <th>442</th>\n",
       "      <td>1478305117</td>\n",
       "      <td>5003921802</td>\n",
       "      <td>9727638738</td>\n",
       "    </tr>\n",
       "    <tr>\n",
       "      <th>2133</th>\n",
       "      <td>7065354365</td>\n",
       "      <td>3642864292</td>\n",
       "      <td>8815983898</td>\n",
       "    </tr>\n",
       "    <tr>\n",
       "      <th>2794</th>\n",
       "      <td>8958485237</td>\n",
       "      <td>1376741893</td>\n",
       "      <td>6505057624</td>\n",
       "    </tr>\n",
       "    <tr>\n",
       "      <th>3200</th>\n",
       "      <td>5003921802</td>\n",
       "      <td>4012969260</td>\n",
       "      <td>5079685869</td>\n",
       "    </tr>\n",
       "  </tbody>\n",
       "</table>\n",
       "</div>"
      ],
      "text/plain": [
       "              l1          l2          l3\n",
       "5     8370753254  9727638738  4120068991\n",
       "442   1478305117  5003921802  9727638738\n",
       "2133  7065354365  3642864292  8815983898\n",
       "2794  8958485237  1376741893  6505057624\n",
       "3200  5003921802  4012969260  5079685869"
      ]
     },
     "execution_count": 3,
     "metadata": {},
     "output_type": "execute_result"
    }
   ],
   "source": [
    "df1.head()"
   ]
  },
  {
   "cell_type": "code",
   "execution_count": 4,
   "metadata": {
    "collapsed": false
   },
   "outputs": [
    {
     "data": {
      "text/html": [
       "<div>\n",
       "<table border=\"1\" class=\"dataframe\">\n",
       "  <thead>\n",
       "    <tr style=\"text-align: right;\">\n",
       "      <th></th>\n",
       "      <th>l1</th>\n",
       "      <th>l2</th>\n",
       "      <th>l3</th>\n",
       "    </tr>\n",
       "  </thead>\n",
       "  <tbody>\n",
       "    <tr>\n",
       "      <th>5</th>\n",
       "      <td>0.933578</td>\n",
       "      <td>0.066422</td>\n",
       "      <td>0.000000</td>\n",
       "    </tr>\n",
       "    <tr>\n",
       "      <th>442</th>\n",
       "      <td>0.649420</td>\n",
       "      <td>0.135856</td>\n",
       "      <td>0.037749</td>\n",
       "    </tr>\n",
       "    <tr>\n",
       "      <th>2133</th>\n",
       "      <td>0.290107</td>\n",
       "      <td>0.132806</td>\n",
       "      <td>0.114269</td>\n",
       "    </tr>\n",
       "    <tr>\n",
       "      <th>2794</th>\n",
       "      <td>0.303156</td>\n",
       "      <td>0.196654</td>\n",
       "      <td>0.116576</td>\n",
       "    </tr>\n",
       "    <tr>\n",
       "      <th>3200</th>\n",
       "      <td>0.826281</td>\n",
       "      <td>0.103805</td>\n",
       "      <td>0.039152</td>\n",
       "    </tr>\n",
       "  </tbody>\n",
       "</table>\n",
       "</div>"
      ],
      "text/plain": [
       "            l1        l2        l3\n",
       "5     0.933578  0.066422  0.000000\n",
       "442   0.649420  0.135856  0.037749\n",
       "2133  0.290107  0.132806  0.114269\n",
       "2794  0.303156  0.196654  0.116576\n",
       "3200  0.826281  0.103805  0.039152"
      ]
     },
     "execution_count": 4,
     "metadata": {},
     "output_type": "execute_result"
    }
   ],
   "source": [
    "df2.head()"
   ]
  },
  {
   "cell_type": "code",
   "execution_count": 5,
   "metadata": {
    "collapsed": true
   },
   "outputs": [],
   "source": [
    "df2['diff12'] = df2['l1'] - df2['l2']\n",
    "df2['diff23'] = df2['l2'] - df2['l3']"
   ]
  },
  {
   "cell_type": "code",
   "execution_count": 6,
   "metadata": {
    "collapsed": false
   },
   "outputs": [
    {
     "data": {
      "text/html": [
       "<div>\n",
       "<table border=\"1\" class=\"dataframe\">\n",
       "  <thead>\n",
       "    <tr style=\"text-align: right;\">\n",
       "      <th></th>\n",
       "      <th>l1</th>\n",
       "      <th>l2</th>\n",
       "      <th>l3</th>\n",
       "      <th>diff12</th>\n",
       "      <th>diff23</th>\n",
       "    </tr>\n",
       "  </thead>\n",
       "  <tbody>\n",
       "    <tr>\n",
       "      <th>5</th>\n",
       "      <td>0.933578</td>\n",
       "      <td>0.066422</td>\n",
       "      <td>0.000000</td>\n",
       "      <td>0.867156</td>\n",
       "      <td>0.066422</td>\n",
       "    </tr>\n",
       "    <tr>\n",
       "      <th>442</th>\n",
       "      <td>0.649420</td>\n",
       "      <td>0.135856</td>\n",
       "      <td>0.037749</td>\n",
       "      <td>0.513564</td>\n",
       "      <td>0.098107</td>\n",
       "    </tr>\n",
       "    <tr>\n",
       "      <th>2133</th>\n",
       "      <td>0.290107</td>\n",
       "      <td>0.132806</td>\n",
       "      <td>0.114269</td>\n",
       "      <td>0.157301</td>\n",
       "      <td>0.018537</td>\n",
       "    </tr>\n",
       "    <tr>\n",
       "      <th>2794</th>\n",
       "      <td>0.303156</td>\n",
       "      <td>0.196654</td>\n",
       "      <td>0.116576</td>\n",
       "      <td>0.106503</td>\n",
       "      <td>0.080078</td>\n",
       "    </tr>\n",
       "    <tr>\n",
       "      <th>3200</th>\n",
       "      <td>0.826281</td>\n",
       "      <td>0.103805</td>\n",
       "      <td>0.039152</td>\n",
       "      <td>0.722476</td>\n",
       "      <td>0.064653</td>\n",
       "    </tr>\n",
       "  </tbody>\n",
       "</table>\n",
       "</div>"
      ],
      "text/plain": [
       "            l1        l2        l3    diff12    diff23\n",
       "5     0.933578  0.066422  0.000000  0.867156  0.066422\n",
       "442   0.649420  0.135856  0.037749  0.513564  0.098107\n",
       "2133  0.290107  0.132806  0.114269  0.157301  0.018537\n",
       "2794  0.303156  0.196654  0.116576  0.106503  0.080078\n",
       "3200  0.826281  0.103805  0.039152  0.722476  0.064653"
      ]
     },
     "execution_count": 6,
     "metadata": {},
     "output_type": "execute_result"
    }
   ],
   "source": [
    "df2.head()"
   ]
  },
  {
   "cell_type": "code",
   "execution_count": 12,
   "metadata": {
    "collapsed": true
   },
   "outputs": [],
   "source": [
    "train_orig = pd.read_hdf('train.h5','table')"
   ]
  },
  {
   "cell_type": "code",
   "execution_count": 13,
   "metadata": {
    "collapsed": true
   },
   "outputs": [],
   "source": [
    "df_cell_train = train_orig.loc[train_orig.grid_cell == 0]\n",
    "place_counts = df_cell_train.place_id.value_counts()\n",
    "mask = (place_counts[df_cell_train.place_id.values] >= 5).values\n",
    "df_cell_train = df_cell_train.loc[mask]"
   ]
  },
  {
   "cell_type": "code",
   "execution_count": 18,
   "metadata": {
    "collapsed": false
   },
   "outputs": [
    {
     "data": {
      "text/plain": [
       "numpy.ndarray"
      ]
     },
     "execution_count": 18,
     "metadata": {},
     "output_type": "execute_result"
    }
   ],
   "source": [
    "type(df_cell_train.place_id.unique())"
   ]
  },
  {
   "cell_type": "code",
   "execution_count": 30,
   "metadata": {
    "collapsed": false
   },
   "outputs": [],
   "source": [
    "df3 = pd.DataFrame(df_cell_train.place_id.value_counts())"
   ]
  },
  {
   "cell_type": "code",
   "execution_count": 41,
   "metadata": {
    "collapsed": false
   },
   "outputs": [
    {
     "data": {
      "text/plain": [
       "numpy.int16"
      ]
     },
     "execution_count": 41,
     "metadata": {},
     "output_type": "execute_result"
    }
   ],
   "source": [
    "type(df3.loc[7123189219].values[0].astype(np.int16))"
   ]
  },
  {
   "cell_type": "code",
   "execution_count": 42,
   "metadata": {
    "collapsed": true
   },
   "outputs": [],
   "source": [
    "def mapper(x):\n",
    "    return df3.loc[x].values[0].astype(np.int16)"
   ]
  },
  {
   "cell_type": "code",
   "execution_count": 44,
   "metadata": {
    "collapsed": false
   },
   "outputs": [],
   "source": [
    "df4 = df1.applymap(mapper)"
   ]
  },
  {
   "cell_type": "code",
   "execution_count": 63,
   "metadata": {
    "collapsed": true
   },
   "outputs": [],
   "source": [
    "df4.columns = ['gridFreq1','gridFreq2','gridFreq3']"
   ]
  },
  {
   "cell_type": "code",
   "execution_count": 64,
   "metadata": {
    "collapsed": false
   },
   "outputs": [
    {
     "data": {
      "text/html": [
       "<div>\n",
       "<table border=\"1\" class=\"dataframe\">\n",
       "  <thead>\n",
       "    <tr style=\"text-align: right;\">\n",
       "      <th></th>\n",
       "      <th>gridFreq1</th>\n",
       "      <th>gridFreq2</th>\n",
       "      <th>gridFreq3</th>\n",
       "    </tr>\n",
       "  </thead>\n",
       "  <tbody>\n",
       "    <tr>\n",
       "      <th>5</th>\n",
       "      <td>693</td>\n",
       "      <td>344</td>\n",
       "      <td>74</td>\n",
       "    </tr>\n",
       "    <tr>\n",
       "      <th>442</th>\n",
       "      <td>121</td>\n",
       "      <td>78</td>\n",
       "      <td>344</td>\n",
       "    </tr>\n",
       "    <tr>\n",
       "      <th>2133</th>\n",
       "      <td>330</td>\n",
       "      <td>456</td>\n",
       "      <td>124</td>\n",
       "    </tr>\n",
       "    <tr>\n",
       "      <th>2794</th>\n",
       "      <td>312</td>\n",
       "      <td>309</td>\n",
       "      <td>250</td>\n",
       "    </tr>\n",
       "    <tr>\n",
       "      <th>3200</th>\n",
       "      <td>78</td>\n",
       "      <td>45</td>\n",
       "      <td>8</td>\n",
       "    </tr>\n",
       "  </tbody>\n",
       "</table>\n",
       "</div>"
      ],
      "text/plain": [
       "      gridFreq1  gridFreq2  gridFreq3\n",
       "5           693        344         74\n",
       "442         121         78        344\n",
       "2133        330        456        124\n",
       "2794        312        309        250\n",
       "3200         78         45          8"
      ]
     },
     "execution_count": 64,
     "metadata": {},
     "output_type": "execute_result"
    }
   ],
   "source": [
    "df4.head()"
   ]
  },
  {
   "cell_type": "code",
   "execution_count": 57,
   "metadata": {
    "collapsed": true
   },
   "outputs": [],
   "source": [
    "df5 = pd.DataFrame(train_orig.place_id.value_counts())"
   ]
  },
  {
   "cell_type": "code",
   "execution_count": 60,
   "metadata": {
    "collapsed": true
   },
   "outputs": [],
   "source": [
    "def mapper1(x):\n",
    "    return df5.loc[x].values[0].astype(np.int16)"
   ]
  },
  {
   "cell_type": "code",
   "execution_count": 61,
   "metadata": {
    "collapsed": true
   },
   "outputs": [],
   "source": [
    "df6 = df1.applymap(mapper1)"
   ]
  },
  {
   "cell_type": "code",
   "execution_count": 65,
   "metadata": {
    "collapsed": true
   },
   "outputs": [],
   "source": [
    "df6.columns = ['AllFreq1','AllFreq2','AllFreq3']"
   ]
  },
  {
   "cell_type": "code",
   "execution_count": 66,
   "metadata": {
    "collapsed": false
   },
   "outputs": [
    {
     "data": {
      "text/html": [
       "<div>\n",
       "<table border=\"1\" class=\"dataframe\">\n",
       "  <thead>\n",
       "    <tr style=\"text-align: right;\">\n",
       "      <th></th>\n",
       "      <th>AllFreq1</th>\n",
       "      <th>AllFreq2</th>\n",
       "      <th>AllFreq3</th>\n",
       "    </tr>\n",
       "  </thead>\n",
       "  <tbody>\n",
       "    <tr>\n",
       "      <th>5</th>\n",
       "      <td>712</td>\n",
       "      <td>351</td>\n",
       "      <td>92</td>\n",
       "    </tr>\n",
       "    <tr>\n",
       "      <th>442</th>\n",
       "      <td>121</td>\n",
       "      <td>81</td>\n",
       "      <td>351</td>\n",
       "    </tr>\n",
       "    <tr>\n",
       "      <th>2133</th>\n",
       "      <td>346</td>\n",
       "      <td>469</td>\n",
       "      <td>133</td>\n",
       "    </tr>\n",
       "    <tr>\n",
       "      <th>2794</th>\n",
       "      <td>322</td>\n",
       "      <td>318</td>\n",
       "      <td>297</td>\n",
       "    </tr>\n",
       "    <tr>\n",
       "      <th>3200</th>\n",
       "      <td>81</td>\n",
       "      <td>50</td>\n",
       "      <td>246</td>\n",
       "    </tr>\n",
       "  </tbody>\n",
       "</table>\n",
       "</div>"
      ],
      "text/plain": [
       "      AllFreq1  AllFreq2  AllFreq3\n",
       "5          712       351        92\n",
       "442        121        81       351\n",
       "2133       346       469       133\n",
       "2794       322       318       297\n",
       "3200        81        50       246"
      ]
     },
     "execution_count": 66,
     "metadata": {},
     "output_type": "execute_result"
    }
   ],
   "source": [
    "df6.head()"
   ]
  },
  {
   "cell_type": "code",
   "execution_count": 67,
   "metadata": {
    "collapsed": true
   },
   "outputs": [],
   "source": [
    "df7 = pd.concat([df2, df4, df6], axis=1)"
   ]
  },
  {
   "cell_type": "code",
   "execution_count": 68,
   "metadata": {
    "collapsed": false
   },
   "outputs": [
    {
     "data": {
      "text/html": [
       "<div>\n",
       "<table border=\"1\" class=\"dataframe\">\n",
       "  <thead>\n",
       "    <tr style=\"text-align: right;\">\n",
       "      <th></th>\n",
       "      <th>l1</th>\n",
       "      <th>l2</th>\n",
       "      <th>l3</th>\n",
       "      <th>diff12</th>\n",
       "      <th>diff23</th>\n",
       "      <th>gridFreq1</th>\n",
       "      <th>gridFreq2</th>\n",
       "      <th>gridFreq3</th>\n",
       "      <th>AllFreq1</th>\n",
       "      <th>AllFreq2</th>\n",
       "      <th>AllFreq3</th>\n",
       "    </tr>\n",
       "  </thead>\n",
       "  <tbody>\n",
       "    <tr>\n",
       "      <th>5</th>\n",
       "      <td>0.933578</td>\n",
       "      <td>0.066422</td>\n",
       "      <td>0.000000</td>\n",
       "      <td>0.867156</td>\n",
       "      <td>0.066422</td>\n",
       "      <td>693</td>\n",
       "      <td>344</td>\n",
       "      <td>74</td>\n",
       "      <td>712</td>\n",
       "      <td>351</td>\n",
       "      <td>92</td>\n",
       "    </tr>\n",
       "    <tr>\n",
       "      <th>442</th>\n",
       "      <td>0.649420</td>\n",
       "      <td>0.135856</td>\n",
       "      <td>0.037749</td>\n",
       "      <td>0.513564</td>\n",
       "      <td>0.098107</td>\n",
       "      <td>121</td>\n",
       "      <td>78</td>\n",
       "      <td>344</td>\n",
       "      <td>121</td>\n",
       "      <td>81</td>\n",
       "      <td>351</td>\n",
       "    </tr>\n",
       "    <tr>\n",
       "      <th>2133</th>\n",
       "      <td>0.290107</td>\n",
       "      <td>0.132806</td>\n",
       "      <td>0.114269</td>\n",
       "      <td>0.157301</td>\n",
       "      <td>0.018537</td>\n",
       "      <td>330</td>\n",
       "      <td>456</td>\n",
       "      <td>124</td>\n",
       "      <td>346</td>\n",
       "      <td>469</td>\n",
       "      <td>133</td>\n",
       "    </tr>\n",
       "    <tr>\n",
       "      <th>2794</th>\n",
       "      <td>0.303156</td>\n",
       "      <td>0.196654</td>\n",
       "      <td>0.116576</td>\n",
       "      <td>0.106503</td>\n",
       "      <td>0.080078</td>\n",
       "      <td>312</td>\n",
       "      <td>309</td>\n",
       "      <td>250</td>\n",
       "      <td>322</td>\n",
       "      <td>318</td>\n",
       "      <td>297</td>\n",
       "    </tr>\n",
       "    <tr>\n",
       "      <th>3200</th>\n",
       "      <td>0.826281</td>\n",
       "      <td>0.103805</td>\n",
       "      <td>0.039152</td>\n",
       "      <td>0.722476</td>\n",
       "      <td>0.064653</td>\n",
       "      <td>78</td>\n",
       "      <td>45</td>\n",
       "      <td>8</td>\n",
       "      <td>81</td>\n",
       "      <td>50</td>\n",
       "      <td>246</td>\n",
       "    </tr>\n",
       "  </tbody>\n",
       "</table>\n",
       "</div>"
      ],
      "text/plain": [
       "            l1        l2        l3    diff12    diff23  gridFreq1  gridFreq2  \\\n",
       "5     0.933578  0.066422  0.000000  0.867156  0.066422        693        344   \n",
       "442   0.649420  0.135856  0.037749  0.513564  0.098107        121         78   \n",
       "2133  0.290107  0.132806  0.114269  0.157301  0.018537        330        456   \n",
       "2794  0.303156  0.196654  0.116576  0.106503  0.080078        312        309   \n",
       "3200  0.826281  0.103805  0.039152  0.722476  0.064653         78         45   \n",
       "\n",
       "      gridFreq3  AllFreq1  AllFreq2  AllFreq3  \n",
       "5            74       712       351        92  \n",
       "442         344       121        81       351  \n",
       "2133        124       346       469       133  \n",
       "2794        250       322       318       297  \n",
       "3200          8        81        50       246  "
      ]
     },
     "execution_count": 68,
     "metadata": {},
     "output_type": "execute_result"
    }
   ],
   "source": [
    "df7.head()"
   ]
  },
  {
   "cell_type": "code",
   "execution_count": 69,
   "metadata": {
    "collapsed": true
   },
   "outputs": [],
   "source": [
    "df7.to_hdf('todoAnalysis.h5','table')"
   ]
  },
  {
   "cell_type": "code",
   "execution_count": null,
   "metadata": {
    "collapsed": true
   },
   "outputs": [],
   "source": []
  }
 ],
 "metadata": {
  "kernelspec": {
   "display_name": "Python 2",
   "language": "python",
   "name": "python2"
  },
  "language_info": {
   "codemirror_mode": {
    "name": "ipython",
    "version": 2
   },
   "file_extension": ".py",
   "mimetype": "text/x-python",
   "name": "python",
   "nbconvert_exporter": "python",
   "pygments_lexer": "ipython2",
   "version": "2.7.11"
  }
 },
 "nbformat": 4,
 "nbformat_minor": 0
}
