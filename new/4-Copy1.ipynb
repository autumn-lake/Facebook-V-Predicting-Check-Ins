{
 "cells": [
  {
   "cell_type": "code",
   "execution_count": 1,
   "metadata": {
    "collapsed": true
   },
   "outputs": [],
   "source": [
    "# coding: utf-8\n",
    "__author__ = 'Sandro Vega Pons : https://www.kaggle.com/svpons'\n",
    "\n",
    "'''Partially based on grid_plus_classifier script:\n",
    "https://www.kaggle.com/svpons/facebook-v-predicting-check-ins/grid-plus-classifier\n",
    "'''\n",
    "\n",
    "import numpy as np\n",
    "import pandas as pd\n",
    "from sklearn.preprocessing import LabelEncoder\n",
    "from sklearn.neighbors import KNeighborsClassifier\n",
    "\n",
    "\n",
    "def prepare_data(df, n_cell_x, n_cell_y):\n",
    "    \"\"\"\n",
    "    Feature engineering and computation of the grid.\n",
    "    \"\"\"\n",
    "    #Creating the grid\n",
    "    size_x = 10. / n_cell_x\n",
    "    size_y = 10. / n_cell_y\n",
    "    eps = 0.00001  \n",
    "    xs = np.where(df.x.values < eps, 0, df.x.values - eps)\n",
    "    ys = np.where(df.y.values < eps, 0, df.y.values - eps)\n",
    "    pos_x = (xs / size_x).astype(np.int)\n",
    "    pos_y = (ys / size_y).astype(np.int)\n",
    "    df['grid_cell'] = (pos_y * n_cell_x + pos_x).astype(np.int16)\n",
    "    \n",
    "    #Feature engineering\n",
    "    fw = [500, 1000, 4, 3, 1./22., 2, 10] #feature weights (black magic here)\n",
    "    df.x = df.x.values * fw[0]\n",
    "    df.y = df.y.values * fw[1]\n",
    "    initial_date = np.datetime64('2014-01-01T01:01', dtype='datetime64[m]') \n",
    "    d_times = pd.DatetimeIndex(initial_date + np.timedelta64(int(mn), 'm') \n",
    "                               for mn in df.time.values)    \n",
    "    df['hour'] = (d_times.hour * fw[2]).astype(np.int8)\n",
    "    df['weekday'] = (d_times.weekday * fw[3]).astype(np.int8)\n",
    "    df['day'] = (d_times.dayofyear * fw[4]).astype(np.int8)\n",
    "    df['month'] = (d_times.month * fw[5]).astype(np.int8)\n",
    "    df['year'] = ((d_times.year - 2013) * fw[6]).astype(np.int8)\n",
    "\n",
    "    df = df.drop(['time'], axis=1) \n",
    "    return df\n",
    "    \n",
    "\n",
    "def process_one_cell(df_train, df_test, grid_id, th):\n",
    "    \"\"\"   \n",
    "    Classification inside one grid cell.\n",
    "    \"\"\"   \n",
    "    #Working on df_train\n",
    "    df_cell_train = df_train.loc[df_train.grid_cell == grid_id]\n",
    "    place_counts = df_cell_train.place_id.value_counts()\n",
    "    mask = (place_counts[df_cell_train.place_id.values] >= th).values\n",
    "    df_cell_train = df_cell_train.loc[mask]\n",
    "\n",
    "    #Working on df_test\n",
    "    df_cell_test = df_test.loc[df_test.grid_cell == grid_id]\n",
    "    row_ids = df_cell_test.index\n",
    "    \n",
    "    #Preparing data\n",
    "    le = LabelEncoder()\n",
    "    y = le.fit_transform(df_cell_train.place_id.values)\n",
    "    X = df_cell_train.drop(['place_id', 'grid_cell'], axis=1).values.astype(int)\n",
    "    X_test = df_cell_test.drop(['grid_cell'], axis = 1).values.astype(int)\n",
    "    \n",
    "    #Applying the classifier\n",
    "    clf = KNeighborsClassifier(n_neighbors=25, weights='distance', \n",
    "                               metric='manhattan')\n",
    "    clf.fit(X, y)\n",
    "    y_pred = clf.predict_proba(X_test)\n",
    "    #pred_probas = np.argsort(y_pred, axis=1)[:,::-1][:,:3]\n",
    "    pred_labels = le.inverse_transform(np.argsort(y_pred, axis=1)[:,::-1][:,:3])\n",
    "    \n",
    "    return pred_labels, row_ids, y_pred\n",
    "    \n",
    "    \n",
    "def process_grid(df_train, df_test, th, n_cells):\n",
    "    \"\"\"\n",
    "    Iterates over all grid cells, aggregates the results and makes the\n",
    "    submission.\n",
    "    \"\"\" \n",
    "    preds = np.zeros((df_test.shape[0], 3), dtype=int)\n",
    "    \n",
    "    for g_id in range(1):\n",
    "        if g_id % 100 == 0:\n",
    "            print('iter: %s' %(g_id))\n",
    "        \n",
    "        #Applying classifier to one grid cell\n",
    "        pred_labels, row_ids, y_pred = process_one_cell(df_train, df_test, g_id, th)\n",
    "\n",
    "        #Updating predictions\n",
    "        preds[row_ids] = pred_labels\n",
    "\n",
    "    print('Generating submission file ...')\n",
    "    #Auxiliary dataframe with the 3 best predictions for each sample\n",
    "    df_aux = pd.DataFrame(preds, dtype=str, columns=['l1', 'l2', 'l3'])  \n",
    "    \n",
    "    #Concatenating the 3 predictions for each sample\n",
    "    ds_sub = df_aux.l1.str.cat([df_aux.l2, df_aux.l3], sep=' ')\n",
    "    \n",
    "    #Writting to csv\n",
    "    ds_sub.name = 'place_id'\n",
    "    ds_sub.to_csv('sub_grid.csv', index=True, header=True, index_label='row_id') \n",
    "    \n",
    "    return y_pred, pred_labels,preds\n",
    "      "
   ]
  },
  {
   "cell_type": "code",
   "execution_count": 6,
   "metadata": {
    "collapsed": false
   },
   "outputs": [
    {
     "name": "stdout",
     "output_type": "stream",
     "text": [
      "Loading data ...\n"
     ]
    }
   ],
   "source": [
    "\"\"\"\n",
    "\"\"\"\n",
    "print('Loading data ...')\n",
    "df1 = pd.read_hdf('1234predictedplaces.h5','table')\n",
    "#df2 = pd.read_hdf('1234predictedprobability.h5','table')"
   ]
  },
  {
   "cell_type": "code",
   "execution_count": 7,
   "metadata": {
    "collapsed": false
   },
   "outputs": [
    {
     "data": {
      "text/html": [
       "<div>\n",
       "<table border=\"1\" class=\"dataframe\">\n",
       "  <thead>\n",
       "    <tr style=\"text-align: right;\">\n",
       "      <th></th>\n",
       "      <th>l1</th>\n",
       "      <th>l2</th>\n",
       "      <th>l3</th>\n",
       "    </tr>\n",
       "  </thead>\n",
       "  <tbody>\n",
       "    <tr>\n",
       "      <th>0</th>\n",
       "      <td>4393146716</td>\n",
       "      <td>6131996960</td>\n",
       "      <td>3831655216</td>\n",
       "    </tr>\n",
       "    <tr>\n",
       "      <th>1</th>\n",
       "      <td>2465239230</td>\n",
       "      <td>5801740503</td>\n",
       "      <td>4634106612</td>\n",
       "    </tr>\n",
       "    <tr>\n",
       "      <th>2</th>\n",
       "      <td>2516481553</td>\n",
       "      <td>7862615088</td>\n",
       "      <td>7295979691</td>\n",
       "    </tr>\n",
       "    <tr>\n",
       "      <th>3</th>\n",
       "      <td>7995458948</td>\n",
       "      <td>3243409743</td>\n",
       "      <td>5345410711</td>\n",
       "    </tr>\n",
       "    <tr>\n",
       "      <th>4</th>\n",
       "      <td>4764406629</td>\n",
       "      <td>8277155346</td>\n",
       "      <td>8711861736</td>\n",
       "    </tr>\n",
       "  </tbody>\n",
       "</table>\n",
       "</div>"
      ],
      "text/plain": [
       "           l1          l2          l3\n",
       "0  4393146716  6131996960  3831655216\n",
       "1  2465239230  5801740503  4634106612\n",
       "2  2516481553  7862615088  7295979691\n",
       "3  7995458948  3243409743  5345410711\n",
       "4  4764406629  8277155346  8711861736"
      ]
     },
     "execution_count": 7,
     "metadata": {},
     "output_type": "execute_result"
    }
   ],
   "source": [
    "df1.head()"
   ]
  },
  {
   "cell_type": "code",
   "execution_count": null,
   "metadata": {
    "collapsed": false
   },
   "outputs": [],
   "source": [
    "df2.head()"
   ]
  },
  {
   "cell_type": "code",
   "execution_count": null,
   "metadata": {
    "collapsed": true
   },
   "outputs": [],
   "source": [
    "df2['diff12'] = df2['l1'] - df2['l2']\n",
    "df2['diff23'] = df2['l2'] - df2['l3']"
   ]
  },
  {
   "cell_type": "code",
   "execution_count": null,
   "metadata": {
    "collapsed": false
   },
   "outputs": [],
   "source": [
    "df2.head()"
   ]
  },
  {
   "cell_type": "code",
   "execution_count": 2,
   "metadata": {
    "collapsed": true
   },
   "outputs": [],
   "source": [
    "train_orig = pd.read_hdf('train.h5','table')"
   ]
  },
  {
   "cell_type": "code",
   "execution_count": 3,
   "metadata": {
    "collapsed": false
   },
   "outputs": [],
   "source": [
    "df3 = pd.DataFrame(train_orig.place_id.value_counts())"
   ]
  },
  {
   "cell_type": "code",
   "execution_count": 4,
   "metadata": {
    "collapsed": true
   },
   "outputs": [],
   "source": [
    "def mapper(x):\n",
    "    return df3.loc[x].values[0].astype(np.int16)"
   ]
  },
  {
   "cell_type": "code",
   "execution_count": null,
   "metadata": {
    "collapsed": false
   },
   "outputs": [],
   "source": [
    "df4 = df1.applymap(mapper)"
   ]
  },
  {
   "cell_type": "code",
   "execution_count": null,
   "metadata": {
    "collapsed": true
   },
   "outputs": [],
   "source": [
    "df4.columns = ['AllFreq1','AllFreq2','AllFreq3']"
   ]
  },
  {
   "cell_type": "code",
   "execution_count": null,
   "metadata": {
    "collapsed": false
   },
   "outputs": [
    {
     "data": {
      "text/html": [
       "<div>\n",
       "<table border=\"1\" class=\"dataframe\">\n",
       "  <thead>\n",
       "    <tr style=\"text-align: right;\">\n",
       "      <th></th>\n",
       "      <th>AllFreq1</th>\n",
       "      <th>AllFreq2</th>\n",
       "      <th>AllFreq3</th>\n",
       "    </tr>\n",
       "  </thead>\n",
       "  <tbody>\n",
       "    <tr>\n",
       "      <th>0</th>\n",
       "      <td>87</td>\n",
       "      <td>230</td>\n",
       "      <td>91</td>\n",
       "    </tr>\n",
       "    <tr>\n",
       "      <th>1</th>\n",
       "      <td>1024</td>\n",
       "      <td>161</td>\n",
       "      <td>167</td>\n",
       "    </tr>\n",
       "    <tr>\n",
       "      <th>2</th>\n",
       "      <td>103</td>\n",
       "      <td>1269</td>\n",
       "      <td>916</td>\n",
       "    </tr>\n",
       "    <tr>\n",
       "      <th>3</th>\n",
       "      <td>919</td>\n",
       "      <td>687</td>\n",
       "      <td>132</td>\n",
       "    </tr>\n",
       "    <tr>\n",
       "      <th>4</th>\n",
       "      <td>637</td>\n",
       "      <td>164</td>\n",
       "      <td>572</td>\n",
       "    </tr>\n",
       "  </tbody>\n",
       "</table>\n",
       "</div>"
      ],
      "text/plain": [
       "   AllFreq1  AllFreq2  AllFreq3\n",
       "0        87       230        91\n",
       "1      1024       161       167\n",
       "2       103      1269       916\n",
       "3       919       687       132\n",
       "4       637       164       572"
      ]
     },
     "execution_count": 10,
     "metadata": {},
     "output_type": "execute_result"
    }
   ],
   "source": [
    "df4.head()"
   ]
  },
  {
   "cell_type": "code",
   "execution_count": null,
   "metadata": {
    "collapsed": true
   },
   "outputs": [],
   "source": [
    "df4.to_hdf('tempAllFreq.h5','table')"
   ]
  },
  {
   "cell_type": "code",
   "execution_count": null,
   "metadata": {
    "collapsed": true
   },
   "outputs": [],
   "source": [
    "df4 = df4.astype(float)\n",
    "df4['AllRatio12'] = df4['AllFreq1']/df4['AllFreq2']\n",
    "df4['AllRatio23'] = df4['AllFreq2']/df4['AllFreq3']\n",
    "df4.drop(['AllFreq1','AllFreq2','AllFreq3'], axis=1)\n",
    "df4.to_hdf('AllFreq.h5','table')"
   ]
  },
  {
   "cell_type": "code",
   "execution_count": null,
   "metadata": {
    "collapsed": false
   },
   "outputs": [
    {
     "name": "stdout",
     "output_type": "stream",
     "text": [
      "done----------------------------------------\n"
     ]
    }
   ],
   "source": [
    "print('done----------------------------------------')"
   ]
  },
  {
   "cell_type": "code",
   "execution_count": null,
   "metadata": {
    "collapsed": true
   },
   "outputs": [],
   "source": [
    "'''\n",
    "df5 = pd.DataFrame(train_orig.place_id.value_counts())\n",
    "\n",
    "def mapper1(x):\n",
    "    return df5.loc[x].values[0].astype(np.int16)\n",
    "\n",
    "df6 = df1.applymap(mapper1)\n",
    "\n",
    "df6.columns = ['AllFreq1','AllFreq2','AllFreq3']\n",
    "\n",
    "df6.head()\n",
    "\n",
    "df7 = pd.concat([df2, df4, df6], axis=1)\n",
    "\n",
    "df7.head()\n",
    "\n",
    "df7.to_hdf('todoAnalysis.h5','table')\n",
    "'''"
   ]
  }
 ],
 "metadata": {
  "kernelspec": {
   "display_name": "Python 2",
   "language": "python",
   "name": "python2"
  },
  "language_info": {
   "codemirror_mode": {
    "name": "ipython",
    "version": 2
   },
   "file_extension": ".py",
   "mimetype": "text/x-python",
   "name": "python",
   "nbconvert_exporter": "python",
   "pygments_lexer": "ipython2",
   "version": "2.7.11"
  }
 },
 "nbformat": 4,
 "nbformat_minor": 0
}
