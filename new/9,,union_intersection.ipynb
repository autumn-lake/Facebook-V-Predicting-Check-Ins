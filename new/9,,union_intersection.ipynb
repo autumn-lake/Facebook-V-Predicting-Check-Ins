{
 "cells": [
  {
   "cell_type": "code",
   "execution_count": 1,
   "metadata": {
    "collapsed": true
   },
   "outputs": [],
   "source": [
    "\n",
    "import numpy as np\n",
    "import pandas as pd\n"
   ]
  },
  {
   "cell_type": "code",
   "execution_count": 2,
   "metadata": {
    "collapsed": false
   },
   "outputs": [
    {
     "name": "stdout",
     "output_type": "stream",
     "text": [
      "Loading data ...\n"
     ]
    }
   ],
   "source": [
    "\"\"\"\n",
    "\"\"\"\n",
    "print('Loading data ...')\n",
    "df1 = pd.read_hdf('1234predictedplaces.h5','table')\n",
    "df2 = pd.read_hdf('1234todoAnalysis.h5','table')"
   ]
  },
  {
   "cell_type": "code",
   "execution_count": 3,
   "metadata": {
    "collapsed": false
   },
   "outputs": [
    {
     "data": {
      "text/html": [
       "<div>\n",
       "<table border=\"1\" class=\"dataframe\">\n",
       "  <thead>\n",
       "    <tr style=\"text-align: right;\">\n",
       "      <th></th>\n",
       "      <th>l1</th>\n",
       "      <th>l2</th>\n",
       "      <th>l3</th>\n",
       "      <th>diff12</th>\n",
       "      <th>diff23</th>\n",
       "      <th>AllRatio12</th>\n",
       "      <th>AllRatio23</th>\n",
       "      <th>gridRatio12</th>\n",
       "      <th>gridRatio23</th>\n",
       "    </tr>\n",
       "  </thead>\n",
       "  <tbody>\n",
       "    <tr>\n",
       "      <th>0</th>\n",
       "      <td>0.308713</td>\n",
       "      <td>0.154834</td>\n",
       "      <td>0.137801</td>\n",
       "      <td>0.153880</td>\n",
       "      <td>0.017033</td>\n",
       "      <td>0.378261</td>\n",
       "      <td>2.527473</td>\n",
       "      <td>0.364035</td>\n",
       "      <td>2.651163</td>\n",
       "    </tr>\n",
       "    <tr>\n",
       "      <th>1</th>\n",
       "      <td>0.242668</td>\n",
       "      <td>0.151991</td>\n",
       "      <td>0.116748</td>\n",
       "      <td>0.090677</td>\n",
       "      <td>0.035243</td>\n",
       "      <td>6.360248</td>\n",
       "      <td>0.964072</td>\n",
       "      <td>13.683333</td>\n",
       "      <td>2.857143</td>\n",
       "    </tr>\n",
       "    <tr>\n",
       "      <th>2</th>\n",
       "      <td>0.394223</td>\n",
       "      <td>0.278302</td>\n",
       "      <td>0.110240</td>\n",
       "      <td>0.115921</td>\n",
       "      <td>0.168062</td>\n",
       "      <td>0.081166</td>\n",
       "      <td>1.385371</td>\n",
       "      <td>0.085125</td>\n",
       "      <td>4.229091</td>\n",
       "    </tr>\n",
       "    <tr>\n",
       "      <th>3</th>\n",
       "      <td>0.665965</td>\n",
       "      <td>0.166739</td>\n",
       "      <td>0.048985</td>\n",
       "      <td>0.499226</td>\n",
       "      <td>0.117754</td>\n",
       "      <td>1.337700</td>\n",
       "      <td>5.204545</td>\n",
       "      <td>0.842640</td>\n",
       "      <td>56.285714</td>\n",
       "    </tr>\n",
       "    <tr>\n",
       "      <th>4</th>\n",
       "      <td>0.876901</td>\n",
       "      <td>0.087552</td>\n",
       "      <td>0.035546</td>\n",
       "      <td>0.789349</td>\n",
       "      <td>0.052006</td>\n",
       "      <td>3.884146</td>\n",
       "      <td>0.286713</td>\n",
       "      <td>4.193548</td>\n",
       "      <td>0.968750</td>\n",
       "    </tr>\n",
       "  </tbody>\n",
       "</table>\n",
       "</div>"
      ],
      "text/plain": [
       "         l1        l2        l3    diff12    diff23  AllRatio12  AllRatio23  \\\n",
       "0  0.308713  0.154834  0.137801  0.153880  0.017033    0.378261    2.527473   \n",
       "1  0.242668  0.151991  0.116748  0.090677  0.035243    6.360248    0.964072   \n",
       "2  0.394223  0.278302  0.110240  0.115921  0.168062    0.081166    1.385371   \n",
       "3  0.665965  0.166739  0.048985  0.499226  0.117754    1.337700    5.204545   \n",
       "4  0.876901  0.087552  0.035546  0.789349  0.052006    3.884146    0.286713   \n",
       "\n",
       "   gridRatio12  gridRatio23  \n",
       "0     0.364035     2.651163  \n",
       "1    13.683333     2.857143  \n",
       "2     0.085125     4.229091  \n",
       "3     0.842640    56.285714  \n",
       "4     4.193548     0.968750  "
      ]
     },
     "execution_count": 3,
     "metadata": {},
     "output_type": "execute_result"
    }
   ],
   "source": [
    "df2.head()"
   ]
  },
  {
   "cell_type": "code",
   "execution_count": 22,
   "metadata": {
    "collapsed": false
   },
   "outputs": [],
   "source": [
    "idxgrid12 = df2.loc[(df2[\"diff12\"]<0.05) & (df2[\"gridRatio12\"]>5)].index\n",
    "idxall12 = df2.loc[(df2[\"diff12\"]<0.05) & (df2[\"AllRatio12\"]>5)].index\n",
    "idxgrid23 = df2.loc[(df2[\"diff23\"]<0.05) & (df2[\"gridRatio23\"]>5)].index\n",
    "idxall23 = df2.loc[(df2[\"diff23\"]<0.05) & (df2[\"AllRatio23\"]>5)].index"
   ]
  },
  {
   "cell_type": "code",
   "execution_count": 23,
   "metadata": {
    "collapsed": false
   },
   "outputs": [
    {
     "data": {
      "text/plain": [
       "(0.01494813081560502, (128662,))"
      ]
     },
     "execution_count": 23,
     "metadata": {},
     "output_type": "execute_result"
    }
   ],
   "source": [
    "idxgrid12.shape[0]/float(df2.shape[0]),idxgrid12.shape"
   ]
  },
  {
   "cell_type": "code",
   "execution_count": 24,
   "metadata": {
    "collapsed": false
   },
   "outputs": [
    {
     "data": {
      "text/plain": [
       "(0.01328778248054252, (114371,))"
      ]
     },
     "execution_count": 24,
     "metadata": {},
     "output_type": "execute_result"
    }
   ],
   "source": [
    "idxall12.shape[0]/float(df2.shape[0]),idxall12.shape"
   ]
  },
  {
   "cell_type": "code",
   "execution_count": 25,
   "metadata": {
    "collapsed": false
   },
   "outputs": [
    {
     "data": {
      "text/plain": [
       "(0.09520774976386132, (819475,))"
      ]
     },
     "execution_count": 25,
     "metadata": {},
     "output_type": "execute_result"
    }
   ],
   "source": [
    "idxgrid23.shape[0]/float(df2.shape[0]),idxgrid23.shape"
   ]
  },
  {
   "cell_type": "code",
   "execution_count": 26,
   "metadata": {
    "collapsed": false
   },
   "outputs": [
    {
     "data": {
      "text/plain": [
       "(0.05517593929754404, (474912,))"
      ]
     },
     "execution_count": 26,
     "metadata": {},
     "output_type": "execute_result"
    }
   ],
   "source": [
    "idxall23.shape[0]/float(df2.shape[0]),idxall23.shape"
   ]
  },
  {
   "cell_type": "code",
   "execution_count": 27,
   "metadata": {
    "collapsed": true
   },
   "outputs": [],
   "source": [
    "idxunion12 = idxgrid12.union(idxall12)\n",
    "idxunion23 = idxgrid23.union(idxall23)"
   ]
  },
  {
   "cell_type": "code",
   "execution_count": 32,
   "metadata": {
    "collapsed": true
   },
   "outputs": [],
   "source": [
    "idxdiff = idxunion23.difference(idxunion12)"
   ]
  },
  {
   "cell_type": "code",
   "execution_count": 35,
   "metadata": {
    "collapsed": false
   },
   "outputs": [
    {
     "data": {
      "text/plain": [
       "Int64Index([      7,      33,      37,      44,      60,      77,      84,\n",
       "                 87,      93,     107,\n",
       "            ...\n",
       "            8607134, 8607157, 8607158, 8607174, 8607192, 8607203, 8607215,\n",
       "            8607218, 8607221, 8607222],\n",
       "           dtype='int64', length=1013906)"
      ]
     },
     "execution_count": 35,
     "metadata": {},
     "output_type": "execute_result"
    }
   ],
   "source": [
    "idxdiff"
   ]
  },
  {
   "cell_type": "code",
   "execution_count": 36,
   "metadata": {
    "collapsed": true
   },
   "outputs": [],
   "source": [
    "df1.loc[idxunion12,['l1','l2']] = df1.loc[idxunion12,['l2','l1']].values"
   ]
  },
  {
   "cell_type": "code",
   "execution_count": 37,
   "metadata": {
    "collapsed": false
   },
   "outputs": [],
   "source": [
    "df1.loc[idxdiff,['l2','l3']] = df1.loc[idxdiff,['l3','l2']].values\n",
    "#df1.loc[idxgrid,['l1','l2']] = df1.loc[idxgrid,['l2','l1']].values"
   ]
  },
  {
   "cell_type": "code",
   "execution_count": 38,
   "metadata": {
    "collapsed": true
   },
   "outputs": [],
   "source": [
    "dff = pd.read_hdf('1234predictedplaces.h5','table')"
   ]
  },
  {
   "cell_type": "code",
   "execution_count": 39,
   "metadata": {
    "collapsed": false
   },
   "outputs": [
    {
     "data": {
      "text/html": [
       "<div>\n",
       "<table border=\"1\" class=\"dataframe\">\n",
       "  <thead>\n",
       "    <tr style=\"text-align: right;\">\n",
       "      <th></th>\n",
       "      <th>l1</th>\n",
       "      <th>l2</th>\n",
       "      <th>l3</th>\n",
       "    </tr>\n",
       "  </thead>\n",
       "  <tbody>\n",
       "    <tr>\n",
       "      <th>0</th>\n",
       "      <td>4393146716</td>\n",
       "      <td>6131996960</td>\n",
       "      <td>3831655216</td>\n",
       "    </tr>\n",
       "    <tr>\n",
       "      <th>1</th>\n",
       "      <td>2465239230</td>\n",
       "      <td>5801740503</td>\n",
       "      <td>4634106612</td>\n",
       "    </tr>\n",
       "    <tr>\n",
       "      <th>2</th>\n",
       "      <td>2516481553</td>\n",
       "      <td>7862615088</td>\n",
       "      <td>7295979691</td>\n",
       "    </tr>\n",
       "    <tr>\n",
       "      <th>3</th>\n",
       "      <td>7995458948</td>\n",
       "      <td>3243409743</td>\n",
       "      <td>5345410711</td>\n",
       "    </tr>\n",
       "    <tr>\n",
       "      <th>4</th>\n",
       "      <td>4764406629</td>\n",
       "      <td>8277155346</td>\n",
       "      <td>8711861736</td>\n",
       "    </tr>\n",
       "  </tbody>\n",
       "</table>\n",
       "</div>"
      ],
      "text/plain": [
       "           l1          l2          l3\n",
       "0  4393146716  6131996960  3831655216\n",
       "1  2465239230  5801740503  4634106612\n",
       "2  2516481553  7862615088  7295979691\n",
       "3  7995458948  3243409743  5345410711\n",
       "4  4764406629  8277155346  8711861736"
      ]
     },
     "execution_count": 39,
     "metadata": {},
     "output_type": "execute_result"
    }
   ],
   "source": [
    "df1.head()"
   ]
  },
  {
   "cell_type": "code",
   "execution_count": 56,
   "metadata": {
    "collapsed": false
   },
   "outputs": [
    {
     "data": {
      "text/plain": [
       "Int64Index([], dtype='int64')"
      ]
     },
     "execution_count": 56,
     "metadata": {},
     "output_type": "execute_result"
    }
   ],
   "source": [
    "idxdiff.intersection(idxunion12)"
   ]
  },
  {
   "cell_type": "code",
   "execution_count": 54,
   "metadata": {
    "collapsed": false
   },
   "outputs": [
    {
     "data": {
      "text/plain": [
       "l1    1308650601\n",
       "l2    5402692475\n",
       "l3    1885511034\n",
       "Name: 8607157, dtype: int64"
      ]
     },
     "execution_count": 54,
     "metadata": {},
     "output_type": "execute_result"
    }
   ],
   "source": [
    "dff.loc[8607157]"
   ]
  },
  {
   "cell_type": "code",
   "execution_count": 55,
   "metadata": {
    "collapsed": false
   },
   "outputs": [
    {
     "data": {
      "text/plain": [
       "l1    1308650601\n",
       "l2    1885511034\n",
       "l3    5402692475\n",
       "Name: 8607157, dtype: int64"
      ]
     },
     "execution_count": 55,
     "metadata": {},
     "output_type": "execute_result"
    }
   ],
   "source": [
    "df1.loc[8607157]"
   ]
  },
  {
   "cell_type": "code",
   "execution_count": 57,
   "metadata": {
    "collapsed": true
   },
   "outputs": [],
   "source": [
    "df1.to_hdf('predictedplacesreplaced__union_intersection12_23.h5','table')"
   ]
  },
  {
   "cell_type": "code",
   "execution_count": null,
   "metadata": {
    "collapsed": true
   },
   "outputs": [],
   "source": []
  }
 ],
 "metadata": {
  "kernelspec": {
   "display_name": "Python 2",
   "language": "python",
   "name": "python2"
  },
  "language_info": {
   "codemirror_mode": {
    "name": "ipython",
    "version": 2
   },
   "file_extension": ".py",
   "mimetype": "text/x-python",
   "name": "python",
   "nbconvert_exporter": "python",
   "pygments_lexer": "ipython2",
   "version": "2.7.11"
  }
 },
 "nbformat": 4,
 "nbformat_minor": 0
}
